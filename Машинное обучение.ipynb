{
 "cells": [
  {
   "cell_type": "code",
   "execution_count": 288,
   "id": "677770fc",
   "metadata": {},
   "outputs": [
    {
     "name": "stdout",
     "output_type": "stream",
     "text": [
      "Populating the interactive namespace from numpy and matplotlib\n"
     ]
    }
   ],
   "source": [
    "import pandas as pd\n",
    "import numpy as np\n",
    "import matplotlib.pyplot as plt\n",
    "from scipy import stats as sts\n",
    "from sklearn.metrics import mean_squared_error, mean_absolute_error\n",
    "import itertools\n",
    "import random\n",
    "from tqdm.notebook import tqdm\n",
    "from sklearn.model_selection import cross_val_score\n",
    "from sklearn.ensemble import RandomForestRegressor\n",
    "from sklearn.metrics import mean_squared_error\n",
    "from sklearn.metrics import mean_absolute_error\n",
    "import xgboost\n",
    "warnings.filterwarnings(\"ignore\")\n",
    "\n",
    "plt.style.use(\"seaborn\")\n",
    "%pylab inline"
   ]
  },
  {
   "cell_type": "code",
   "execution_count": 419,
   "id": "c093935c",
   "metadata": {},
   "outputs": [],
   "source": [
    "df = pd.read_csv('/Users/cernenkostanislav/Desktop/Анализ на питон/жиесть.csv')"
   ]
  },
  {
   "cell_type": "code",
   "execution_count": 420,
   "id": "40a02a2b",
   "metadata": {},
   "outputs": [],
   "source": [
    "#некоторые признаки, которые должны быть списками, превратились в строки, исправим\n",
    "for c in ['grape', 'features', 'taste', 'dishes', 'description']:\n",
    "    df[c][df[c].isnull() == False] = df[c][df[c].isnull() == False].apply(eval)"
   ]
  },
  {
   "cell_type": "markdown",
   "id": "1f4e5a47",
   "metadata": {},
   "source": [
    "# Machine Learning"
   ]
  },
  {
   "cell_type": "markdown",
   "id": "90545ad4",
   "metadata": {},
   "source": [
    "Данные собраны и обработаны, визуализация сделана, гипотезы проверены, самое время попробовать сделать модель, которая будет определять стоимость вина по его характеристикам."
   ]
  },
  {
   "cell_type": "code",
   "execution_count": 422,
   "id": "aa30135e",
   "metadata": {},
   "outputs": [],
   "source": [
    "#разделим на обучающую и тестовую выборки\n",
    "initial_drop = ['Unnamed: 0', 'name', 'w_id', 'href', 'discount_size', 'discount_price', 'base_price',\n",
    "               'SW_rating', 'VIVINO_rating', 'WS_rating', 'RVF_rating',\n",
    "               'JS_rating', 'RP_rating', 'AM_rating', 'GR_rating', 'AIS_rating',\n",
    "               'PENIN_rating', 'ST_rating', 'JR_rating','description', 'otklonenue']\n",
    "\n",
    "from sklearn.model_selection import train_test_split\n",
    "X_tr, X_te, y_tr, y_te = train_test_split(df.drop(labels = initial_drop ,axis = 1), df['base_price'], test_size=0.2, random_state=3)\n",
    "X_tr = X_tr.replace(np.nan, None)\n",
    "X_te = X_te.replace(np.nan, None)\n",
    "\n",
    "#самостоятельно закодируем с помощью OneHot кодирования признаки, так как они содержат списки\n",
    "columns_lists = [ 'grape', 'features',\n",
    "        'taste', 'dishes']\n",
    "columns_str = ['country', 'color', 'sweetness', 'region','storage_potential', \n",
    "               'appellation', 'category', 'decantation','aging_in_container', 'manufacturer']\n",
    "for c in columns_lists:\n",
    "    flat_listik = list(itertools.chain(*list(X_tr[c][~X_tr[c].isnull()])))\n",
    "    for i in list(set(flat_listik)):\n",
    "        X_tr[i] = in_list_vec(X_tr[c], i)\n",
    "\n",
    "for c in columns_str:\n",
    "    flat_listik = X_tr[c][~X_tr[c].isnull()].unique()\n",
    "    for i in flat_listik:\n",
    "        X_tr[i] = in_list_vec(X_tr[c], i)\n",
    "\n",
    "#сделаем transform для тестовой выборки\n",
    "for c in columns_lists:\n",
    "    flat_listik = list(itertools.chain(*list(X_tr[c][~X_tr[c].isnull()])))\n",
    "    for i in list(set(flat_listik)):\n",
    "        X_te[i] = in_list_vec(X_te[c], i)\n",
    "\n",
    "for c in columns_str:\n",
    "    flat_listik = X_tr[c][~X_tr[c].isnull()].unique()\n",
    "    for i in flat_listik:\n",
    "        X_te[i] = in_list_vec(X_te[c], i)"
   ]
  },
  {
   "cell_type": "code",
   "execution_count": 423,
   "id": "521fdedb",
   "metadata": {
    "scrolled": true
   },
   "outputs": [],
   "source": [
    "#Удалим лишние столбцы\n",
    "X_tr = X_tr.drop(labels =[ 'grape', 'manufacturer', 'features',\n",
    "        'taste', 'dishes', 'country', 'color', 'sweetness', 'region','storage_potential', \n",
    "               'appellation', 'category', 'decantation','aging_in_container'], axis = 1)\n",
    " \n",
    "X_te = X_te.drop(labels =[ 'grape', 'manufacturer', 'features',\n",
    "        'taste', 'dishes', 'country', 'color', 'sweetness', 'region','storage_potential', \n",
    "               'appellation', 'category', 'decantation','aging_in_container'], axis = 1)\n",
    "\n",
    "#Заменим None на числа, для рэндом фореста норм\n",
    "for c in ['sugar', 'acidity', 'aromaticity', 'tannins', 'body', 'client_rating', 'critic_rating']:\n",
    "    X_tr[c].fillna(value=-999, inplace=True)\n",
    "    X_te[c].fillna(value=-999, inplace=True)"
   ]
  },
  {
   "cell_type": "markdown",
   "id": "fbd0d9cd",
   "metadata": {},
   "source": [
    "### Рэндом форест\n",
    "Мы будем решать задачу регрессии. Так как у нас очень много категориальных признаков, воспользуемся деревьями."
   ]
  },
  {
   "cell_type": "code",
   "execution_count": 377,
   "id": "1ec9125f",
   "metadata": {},
   "outputs": [
    {
     "data": {
      "application/vnd.jupyter.widget-view+json": {
       "model_id": "84c3c7a4838c4389933039b90d49476f",
       "version_major": 2,
       "version_minor": 0
      },
      "text/plain": [
       "  0%|          | 0/80 [00:00<?, ?it/s]"
      ]
     },
     "metadata": {},
     "output_type": "display_data"
    },
    {
     "data": {
      "text/plain": [
       "array([(25, 2), -4440.844098910061], dtype=object)"
      ]
     },
     "execution_count": 377,
     "metadata": {},
     "output_type": "execute_result"
    }
   ],
   "source": [
    "#подберем гиперпараметры\n",
    "max_depths = range(20, 30)\n",
    "min_samples_splits = range(2, 10)\n",
    "results = []\n",
    "combinations = list(itertools.product(max_depths, min_samples_splits))\n",
    "for i in tqdm(combinations):\n",
    "    reg = RandomForestRegressor(n_estimators=100, max_depth=i[0], min_samples_split=i[1])\n",
    "    scores = cross_val_score(reg, X_tr, y_tr, cv=3, scoring='neg_mean_absolute_error')\n",
    "    score = np.mean(scores)\n",
    "    results.append([i, score])\n",
    "results = np.array(results)\n",
    "results[results[:,1].argmax()]"
   ]
  },
  {
   "cell_type": "code",
   "execution_count": 424,
   "id": "d518c436",
   "metadata": {},
   "outputs": [
    {
     "name": "stdout",
     "output_type": "stream",
     "text": [
      "MSE на тесте = 65009353.404919446 MAE на тесте = 4073.5277025774476\n",
      "MSE на трейне = 9288903.88814746 MAE на трейне = 1607.7760784901723\n"
     ]
    }
   ],
   "source": [
    "reg = RandomForestRegressor(n_estimators=100,  max_depth=25, min_samples_split=2)\n",
    "reg.fit(X_tr, y_tr)\n",
    "y_pred = reg.predict(X_te)\n",
    "print('MSE на тесте =', mean_squared_error(y_te, y_pred), 'MAE на тесте =', mean_absolute_error(y_te, y_pred)) \n",
    "y_pred = reg.predict(X_tr)\n",
    "print('MSE на трейне =', mean_squared_error(y_tr, y_pred), 'MAE на трейне =', mean_absolute_error(y_tr, y_pred)) "
   ]
  },
  {
   "cell_type": "markdown",
   "id": "523f8bc0",
   "metadata": {},
   "source": [
    "Модель переобучилась( Попробуем увеличить число деревьев и снизить глубину"
   ]
  },
  {
   "cell_type": "code",
   "execution_count": 384,
   "id": "4b9fa405",
   "metadata": {},
   "outputs": [
    {
     "name": "stdout",
     "output_type": "stream",
     "text": [
      "MSE на тесте = 111390398.18109967 MAE на тесте = 6048.275592295816\n",
      "MSE на трейне = 81936072.69532278 MAE на трейне = 5477.128620081566\n"
     ]
    }
   ],
   "source": [
    "reg = RandomForestRegressor(n_estimators=1000,  max_depth=5, min_samples_split=2)\n",
    "reg.fit(X_tr, y_tr)\n",
    "y_pred = reg.predict(X_te)\n",
    "print('MSE на тесте =', mean_squared_error(y_te, y_pred), 'MAE на тесте =', mean_absolute_error(y_te, y_pred)) \n",
    "y_pred = reg.predict(X_tr)\n",
    "print('MSE на трейне =', mean_squared_error(y_tr, y_pred), 'MAE на трейне =', mean_absolute_error(y_tr, y_pred)) "
   ]
  },
  {
   "cell_type": "code",
   "execution_count": 386,
   "id": "8cd4da62",
   "metadata": {},
   "outputs": [
    {
     "name": "stdout",
     "output_type": "stream",
     "text": [
      "MSE на тесте = 66275573.27677627 MAE на тесте = 4291.862017701811\n",
      "MSE на трейне = 13901818.550446182 MAE на трейне = 2246.3642531339588\n"
     ]
    }
   ],
   "source": [
    "reg = RandomForestRegressor(n_estimators=1000,  max_depth=15, min_samples_split=2)\n",
    "reg.fit(X_tr, y_tr)\n",
    "y_pred = reg.predict(X_te)\n",
    "print('MSE на тесте =', mean_squared_error(y_te, y_pred), 'MAE на тесте =', mean_absolute_error(y_te, y_pred)) \n",
    "y_pred = reg.predict(X_tr)\n",
    "print('MSE на трейне =', mean_squared_error(y_tr, y_pred), 'MAE на трейне =', mean_absolute_error(y_tr, y_pred)) "
   ]
  },
  {
   "cell_type": "markdown",
   "id": "e73792e2",
   "metadata": {},
   "source": [
    "Попробуем увеличить число деревьев по сравнению с первым случаем и сделать их более глубокими, это поможет снизить смещение и разброс."
   ]
  },
  {
   "cell_type": "code",
   "execution_count": 388,
   "id": "85d36824",
   "metadata": {},
   "outputs": [
    {
     "data": {
      "application/vnd.jupyter.widget-view+json": {
       "model_id": "68c071f24a9645e7b1dbeebed7e8f155",
       "version_major": 2,
       "version_minor": 0
      },
      "text/plain": [
       "  0%|          | 0/10 [00:00<?, ?it/s]"
      ]
     },
     "metadata": {},
     "output_type": "display_data"
    },
    {
     "data": {
      "text/plain": [
       "array([   33.        , -4436.97466336])"
      ]
     },
     "execution_count": 388,
     "metadata": {},
     "output_type": "execute_result"
    }
   ],
   "source": [
    "max_depths = range(25, 35)\n",
    "results = []\n",
    "for i in tqdm(max_depths):\n",
    "    reg = RandomForestRegressor(n_estimators=500, max_depth=i, min_samples_split=2)\n",
    "    scores = cross_val_score(reg, X_tr, y_tr, cv=3, scoring='neg_mean_absolute_error')\n",
    "    score = np.mean(scores)\n",
    "    results.append([i, score])\n",
    "results = np.array(results)\n",
    "results[results[:,1].argmax()]"
   ]
  },
  {
   "cell_type": "code",
   "execution_count": 390,
   "id": "3166dbfb",
   "metadata": {},
   "outputs": [
    {
     "name": "stdout",
     "output_type": "stream",
     "text": [
      "MSE на тесте = 63927448.25410226 MAE на тесте = 4015.4795512982264\n",
      "MSE на трейне = 9176755.238826793 MAE на трейне = 1514.1605717130103\n"
     ]
    }
   ],
   "source": [
    "reg = RandomForestRegressor(n_estimators=500,  max_depth=33, min_samples_split=2)\n",
    "reg.fit(X_tr, y_tr)\n",
    "y_pred = reg.predict(X_te)\n",
    "print('MSE на тесте =', mean_squared_error(y_te, y_pred), 'MAE на тесте =', mean_absolute_error(y_te, y_pred)) \n",
    "y_pred = reg.predict(X_tr)\n",
    "print('MSE на трейне =', mean_squared_error(y_tr, y_pred), 'MAE на трейне =', mean_absolute_error(y_tr, y_pred)) "
   ]
  },
  {
   "cell_type": "markdown",
   "id": "97a7e85a",
   "metadata": {},
   "source": [
    "Еще разок поподбираем"
   ]
  },
  {
   "cell_type": "code",
   "execution_count": 397,
   "id": "c4aedbf4",
   "metadata": {},
   "outputs": [
    {
     "data": {
      "application/vnd.jupyter.widget-view+json": {
       "model_id": "96493cf8f2b1482297a5203259127535",
       "version_major": 2,
       "version_minor": 0
      },
      "text/plain": [
       "  0%|          | 0/25 [00:00<?, ?it/s]"
      ]
     },
     "metadata": {},
     "output_type": "display_data"
    },
    {
     "data": {
      "text/plain": [
       "array([   22.        , -4463.46841803])"
      ]
     },
     "execution_count": 397,
     "metadata": {},
     "output_type": "execute_result"
    }
   ],
   "source": [
    "max_depths = range(5, 30)\n",
    "results = []\n",
    "for i in tqdm(max_depths):\n",
    "    reg = RandomForestRegressor(n_estimators=100, max_depth=i, min_samples_split=2)\n",
    "    scores = cross_val_score(reg, X_tr, y_tr, cv=3, scoring='neg_mean_absolute_error')\n",
    "    score = np.mean(scores)\n",
    "    results.append([i, score])\n",
    "results = np.array(results)\n",
    "results[results[:,1].argmax()]"
   ]
  },
  {
   "cell_type": "code",
   "execution_count": 398,
   "id": "b63dc505",
   "metadata": {},
   "outputs": [
    {
     "name": "stdout",
     "output_type": "stream",
     "text": [
      "MSE на тесте = 66008123.694744974 MAE на тесте = 4122.059537808929\n",
      "MSE на трейне = 10164188.883606294 MAE на трейне = 1716.250618427761\n"
     ]
    }
   ],
   "source": [
    "reg = RandomForestRegressor(n_estimators=100,  max_depth=22, min_samples_split=2)\n",
    "reg.fit(X_tr, y_tr)\n",
    "y_pred = reg.predict(X_te)\n",
    "print('MSE на тесте =', mean_squared_error(y_te, y_pred), 'MAE на тесте =', mean_absolute_error(y_te, y_pred)) \n",
    "y_pred = reg.predict(X_tr)\n",
    "print('MSE на трейне =', mean_squared_error(y_tr, y_pred), 'MAE на трейне =', mean_absolute_error(y_tr, y_pred)) "
   ]
  },
  {
   "cell_type": "markdown",
   "id": "9ab854ee",
   "metadata": {},
   "source": [
    "Сделаем еще один гридсерч, изменив max_depths"
   ]
  },
  {
   "cell_type": "code",
   "execution_count": 401,
   "id": "d71c28c9",
   "metadata": {},
   "outputs": [
    {
     "data": {
      "application/vnd.jupyter.widget-view+json": {
       "model_id": "ffe59b66643e4aac972e157500b907c5",
       "version_major": 2,
       "version_minor": 0
      },
      "text/plain": [
       "  0%|          | 0/40 [00:00<?, ?it/s]"
      ]
     },
     "metadata": {},
     "output_type": "display_data"
    },
    {
     "data": {
      "text/plain": [
       "array([(9, 6), -5078.692432578854], dtype=object)"
      ]
     },
     "execution_count": 401,
     "metadata": {},
     "output_type": "execute_result"
    }
   ],
   "source": [
    "max_depths = range(5, 10)\n",
    "min_samples_splits = range(2, 10)\n",
    "results = []\n",
    "combinations = list(itertools.product(max_depths, min_samples_splits))\n",
    "for i in tqdm(combinations):\n",
    "    reg = RandomForestRegressor(n_estimators=100, max_depth=i[0], min_samples_split=i[1])\n",
    "    scores = cross_val_score(reg, X_tr, y_tr, cv=3, scoring='neg_mean_absolute_error')\n",
    "    score = np.mean(scores)\n",
    "    results.append([i, score])\n",
    "results = np.array(results)\n",
    "results[results[:,1].argmax()]"
   ]
  },
  {
   "cell_type": "code",
   "execution_count": 402,
   "id": "1b0edafe",
   "metadata": {},
   "outputs": [
    {
     "name": "stdout",
     "output_type": "stream",
     "text": [
      "MSE на тесте = 82213044.66984908 MAE на тесте = 5010.166008383767\n",
      "MSE на трейне = 38180084.998090245 MAE на трейне = 3742.682603400672\n"
     ]
    }
   ],
   "source": [
    "reg = RandomForestRegressor(n_estimators=100,  max_depth=9, min_samples_split=6)\n",
    "reg.fit(X_tr, y_tr)\n",
    "y_pred = reg.predict(X_te)\n",
    "print('MSE на тесте =', mean_squared_error(y_te, y_pred), 'MAE на тесте =', mean_absolute_error(y_te, y_pred)) \n",
    "y_pred = reg.predict(X_tr)\n",
    "print('MSE на трейне =', mean_squared_error(y_tr, y_pred), 'MAE на трейне =', mean_absolute_error(y_tr, y_pred)) "
   ]
  },
  {
   "cell_type": "markdown",
   "id": "f0fd8198",
   "metadata": {},
   "source": [
    "Как и ожидалось, качество упало, мы считаем, что это происходит из-за того, что признаков очень много и нужны глубокие деревья, чтобы снизить смещение. "
   ]
  },
  {
   "cell_type": "markdown",
   "id": "6d68cf6e",
   "metadata": {},
   "source": [
    "Качество на трейне растет вместе с качеством на тесте. Значит полученная разница в трейне и тесте говорит о структуре данных, а не о переобученности модели."
   ]
  },
  {
   "cell_type": "markdown",
   "id": "9dfac42f",
   "metadata": {},
   "source": [
    "__Вывод:__ Лучшие параметры: n_estimators=100,  max_depth=25, min_samples_split=2 Качество рэндом фореста не очень радует, поэтому используем бустинг, может быть он поможет улучшить точность предсказаний. Обучим модель на примерных гиперпарамтерах, после чего попробуем их поменять, чтобы снизить переобучение и уменьшить ошибку на тесте. Мы не будем выполнять GridSearch, так как модель обучается слишком долго, выберем гиперпараметры руками."
   ]
  },
  {
   "cell_type": "code",
   "execution_count": 392,
   "id": "ff9c258b",
   "metadata": {},
   "outputs": [
    {
     "name": "stdout",
     "output_type": "stream",
     "text": [
      "max_depth=10, subsample=0.5, learning_rate =0.05\n",
      "MSE тест = 43054896.49509551 MAE тест = 3385.1457902129864\n",
      "MSE трейн = 2775207.431731623 MAE трейн = 1202.1979857990855\n"
     ]
    }
   ],
   "source": [
    "model = xgboost.XGBRegressor(n_estimators=1000, booster='gbtree',max_depth=7, subsample=0.5, \n",
    "                             learning_rate =0.05)\n",
    "model.fit(X_tr, y_tr)\n",
    "y_pred = model.predict(X_te)\n",
    "print('max_depth=10, subsample=0.5, learning_rate =0.05')\n",
    "print('MSE тест =', mean_squared_error(y_te, y_pred), 'MAE тест =', mean_absolute_error(y_te, y_pred)) \n",
    "y_pred = model.predict(X_tr)\n",
    "print('MSE трейн =', mean_squared_error(y_tr, y_pred), 'MAE трейн =', mean_absolute_error(y_tr, y_pred)) "
   ]
  },
  {
   "cell_type": "markdown",
   "id": "63549488",
   "metadata": {},
   "source": [
    "Возможно модель переобучилась, уменьшим число деревьев."
   ]
  },
  {
   "cell_type": "code",
   "execution_count": 399,
   "id": "c1a81702",
   "metadata": {},
   "outputs": [
    {
     "name": "stdout",
     "output_type": "stream",
     "text": [
      "max_depth=10, subsample=0.5, learning_rate =0.05\n",
      "MSE тест = 44871035.150206365 MAE тест = 3581.5222407351584\n",
      "MSE трейн = 6180447.151665938 MAE трейн = 1717.9855331035076\n"
     ]
    }
   ],
   "source": [
    "model = xgboost.XGBRegressor(n_estimators=500, booster='gbtree',max_depth=7, subsample=0.5, \n",
    "                             learning_rate =0.05)\n",
    "model.fit(X_tr, y_tr)\n",
    "y_pred = model.predict(X_te)\n",
    "print('max_depth=10, subsample=0.5, learning_rate =0.05')\n",
    "print('MSE тест =', mean_squared_error(y_te, y_pred), 'MAE тест =', mean_absolute_error(y_te, y_pred)) \n",
    "y_pred = model.predict(X_tr)\n",
    "print('MSE трейн =', mean_squared_error(y_tr, y_pred), 'MAE трейн =', mean_absolute_error(y_tr, y_pred)) "
   ]
  },
  {
   "cell_type": "markdown",
   "id": "5fcab866",
   "metadata": {},
   "source": [
    "Стало хуже. Попробуем увеличить)"
   ]
  },
  {
   "cell_type": "code",
   "execution_count": 400,
   "id": "32bb77e0",
   "metadata": {},
   "outputs": [
    {
     "name": "stdout",
     "output_type": "stream",
     "text": [
      "max_depth=10, subsample=0.5, learning_rate =0.05\n",
      "MSE тест = 41833504.998495676 MAE тест = 3231.246299348542\n",
      "MSE трейн = 825714.3177981823 MAE трейн = 680.5448405721326\n"
     ]
    }
   ],
   "source": [
    "model = xgboost.XGBRegressor(n_estimators=2000, booster='gbtree',max_depth=7, subsample=0.5, \n",
    "                             learning_rate =0.05)\n",
    "model.fit(X_tr, y_tr)\n",
    "y_pred = model.predict(X_te)\n",
    "print('max_depth=10, subsample=0.5, learning_rate =0.05')\n",
    "print('MSE тест =', mean_squared_error(y_te, y_pred), 'MAE тест =', mean_absolute_error(y_te, y_pred)) \n",
    "y_pred = model.predict(X_tr)\n",
    "print('MSE трейн =', mean_squared_error(y_tr, y_pred), 'MAE трейн =', mean_absolute_error(y_tr, y_pred)) "
   ]
  },
  {
   "cell_type": "markdown",
   "id": "48845400",
   "metadata": {},
   "source": [
    "Еще один вариант для гиперпараметров."
   ]
  },
  {
   "cell_type": "code",
   "execution_count": 403,
   "id": "52622c07",
   "metadata": {},
   "outputs": [
    {
     "name": "stdout",
     "output_type": "stream",
     "text": [
      "max_depth=10, subsample=0.5, learning_rate =0.05\n",
      "MSE тест = 44199564.393259205 MAE тест = 3507.071264181125\n",
      "MSE трейн = 3755603.3777808007 MAE трейн = 1378.1331639979453\n"
     ]
    }
   ],
   "source": [
    "model = xgboost.XGBRegressor(n_estimators=1500, booster='gbtree',max_depth=7, subsample=0.5, \n",
    "                             learning_rate =0.025)\n",
    "model.fit(X_tr, y_tr)\n",
    "y_pred = model.predict(X_te)\n",
    "print('max_depth=10, subsample=0.5, learning_rate =0.05')\n",
    "print('MSE тест =', mean_squared_error(y_te, y_pred), 'MAE тест =', mean_absolute_error(y_te, y_pred)) \n",
    "y_pred = model.predict(X_tr)\n",
    "print('MSE трейн =', mean_squared_error(y_tr, y_pred), 'MAE трейн =', mean_absolute_error(y_tr, y_pred)) "
   ]
  },
  {
   "cell_type": "markdown",
   "id": "5c6e82f2",
   "metadata": {},
   "source": [
    "Мы считаем, что качество может портиться из-за того, что у нас много выбросов. Уберем выбросы, обучим модель."
   ]
  },
  {
   "cell_type": "code",
   "execution_count": 425,
   "id": "ddc81289",
   "metadata": {},
   "outputs": [],
   "source": [
    "#Уберем бутылки, которые дороже 90% квантиля\n",
    "df_clean = df[df['base_price'] < np.quantile(df['base_price'], 0.9)]"
   ]
  },
  {
   "cell_type": "code",
   "execution_count": 426,
   "id": "54b03949",
   "metadata": {},
   "outputs": [],
   "source": [
    "#Подготовим новые данные\n",
    "#разделим на обучающую и тестовую выборки\n",
    "initial_drop = ['Unnamed: 0', 'name', 'w_id', 'href', 'discount_size', 'discount_price', 'base_price',\n",
    "               'SW_rating', 'VIVINO_rating', 'WS_rating', 'RVF_rating',\n",
    "               'JS_rating', 'RP_rating', 'AM_rating', 'GR_rating', 'AIS_rating',\n",
    "               'PENIN_rating', 'ST_rating', 'JR_rating','description', 'otklonenue']\n",
    "\n",
    "from sklearn.model_selection import train_test_split\n",
    "X_tr, X_te, y_tr, y_te = train_test_split(df_clean.drop(labels = initial_drop ,axis = 1), df_clean['base_price'], test_size=0.2, random_state=3)\n",
    "X_tr = X_tr.replace(np.nan, None)\n",
    "X_te = X_te.replace(np.nan, None)\n",
    "\n",
    "#самостоятельно закодируем с помощью OneHot кодирования признаки, так как они содержат списки\n",
    "columns_lists = [ 'grape', 'features',\n",
    "        'taste', 'dishes']\n",
    "columns_str = ['country', 'color', 'sweetness', 'region','storage_potential', \n",
    "               'appellation', 'category', 'decantation','aging_in_container', 'manufacturer']\n",
    "for c in columns_lists:\n",
    "    flat_listik = list(itertools.chain(*list(X_tr[c][~X_tr[c].isnull()])))\n",
    "    for i in list(set(flat_listik)):\n",
    "        X_tr[i] = in_list_vec(X_tr[c], i)\n",
    "\n",
    "for c in columns_str:\n",
    "    flat_listik = X_tr[c][~X_tr[c].isnull()].unique()\n",
    "    for i in flat_listik:\n",
    "        X_tr[i] = in_list_vec(X_tr[c], i)\n",
    "\n",
    "#сделаем transform для тестовой выборки\n",
    "for c in columns_lists:\n",
    "    flat_listik = list(itertools.chain(*list(X_tr[c][~X_tr[c].isnull()])))\n",
    "    for i in list(set(flat_listik)):\n",
    "        X_te[i] = in_list_vec(X_te[c], i)\n",
    "\n",
    "for c in columns_str:\n",
    "    flat_listik = X_tr[c][~X_tr[c].isnull()].unique()\n",
    "    for i in flat_listik:\n",
    "        X_te[i] = in_list_vec(X_te[c], i)\n",
    "\n",
    "#Удалим лишние столбцы\n",
    "X_tr = X_tr.drop(labels =[ 'grape', 'manufacturer', 'features',\n",
    "        'taste', 'dishes', 'country', 'color', 'sweetness', 'region','storage_potential', \n",
    "               'appellation', 'category', 'decantation','aging_in_container'], axis = 1)\n",
    " \n",
    "X_te = X_te.drop(labels =[ 'grape', 'manufacturer', 'features',\n",
    "        'taste', 'dishes', 'country', 'color', 'sweetness', 'region','storage_potential', \n",
    "               'appellation', 'category', 'decantation','aging_in_container'], axis = 1)\n",
    "\n",
    "#Заменим None на числа, для рэндом фореста норм\n",
    "for c in ['sugar', 'acidity', 'aromaticity', 'tannins', 'body', 'client_rating', 'critic_rating']:\n",
    "    X_tr[c].fillna(value=-999, inplace=True)\n",
    "    X_te[c].fillna(value=-999, inplace=True)"
   ]
  },
  {
   "cell_type": "code",
   "execution_count": 427,
   "id": "985b8076",
   "metadata": {},
   "outputs": [
    {
     "name": "stdout",
     "output_type": "stream",
     "text": [
      "max_depth=10, subsample=0.5, learning_rate =0.05\n",
      "MSE тест = 9149926.713517064 MAE тест = 1881.1354282206469\n",
      "MSE трейн = 562183.1626555764 MAE трейн = 562.6490616708431\n"
     ]
    }
   ],
   "source": [
    "#Затестим бустинг\n",
    "model = xgboost.XGBRegressor(n_estimators=1000, booster='gbtree',max_depth=7, subsample=0.5, \n",
    "                             learning_rate =0.05)\n",
    "model.fit(X_tr, y_tr)\n",
    "y_pred = model.predict(X_te)\n",
    "print('max_depth=10, subsample=0.5, learning_rate =0.05')\n",
    "print('MSE тест =', mean_squared_error(y_te, y_pred), 'MAE тест =', mean_absolute_error(y_te, y_pred)) \n",
    "y_pred = model.predict(X_tr)\n",
    "print('MSE трейн =', mean_squared_error(y_tr, y_pred), 'MAE трейн =', mean_absolute_error(y_tr, y_pred)) "
   ]
  },
  {
   "cell_type": "markdown",
   "id": "c0da8a13",
   "metadata": {},
   "source": [
    "Ура, качество выросло, видимо выбросы сильно портили модель. Мы понимаем, что в целом МАЕ и MSE зависят от того, какие значения у переменных, и если мы работаем с более дешевыми винами, то МАЕ и MSE будут ниже. Однако, мы считаем, что качественная работа на винах, стоимость которых находится в реалистичном диапазоне, важнее, так как ценообразование элитных вин имеет очень сложный механизм. Попробуем другую модель."
   ]
  },
  {
   "cell_type": "code",
   "execution_count": 428,
   "id": "12420829",
   "metadata": {},
   "outputs": [
    {
     "name": "stdout",
     "output_type": "stream",
     "text": [
      "MSE на тесте = 12537394.657004645 MAE на тесте = 2121.2163988730717\n",
      "MSE на трейне = 2172964.8156777117 MAE на трейне = 906.5958087944156\n"
     ]
    }
   ],
   "source": [
    "#Затестим рэндом форест\n",
    "reg = RandomForestRegressor(n_estimators=100,  max_depth=25, min_samples_split=2)\n",
    "reg.fit(X_tr, y_tr)\n",
    "y_pred = reg.predict(X_te)\n",
    "print('MSE на тесте =', mean_squared_error(y_te, y_pred), 'MAE на тесте =', mean_absolute_error(y_te, y_pred)) \n",
    "y_pred = reg.predict(X_tr)\n",
    "print('MSE на трейне =', mean_squared_error(y_tr, y_pred), 'MAE на трейне =', mean_absolute_error(y_tr, y_pred)) "
   ]
  },
  {
   "cell_type": "markdown",
   "id": "e67e59a1",
   "metadata": {},
   "source": [
    "__Вывод:__ в результате подбора гиперпараметров, нам не удалось сделать достаточно точную модель. По нашему мнению есть несколько причин, которые могут объяснять качество модели.\n",
    "\n",
    "__Сложность в кодировании:__ некоторые признаки представляют из себя списки, поэтому нам пришлось применить OneHot кодирование, в результате в тесте могут встречаться признаки, которых нет в трейне, поэтому они не отображаются при кодировке в тестовой выборке, а значит не учитываются при предсказании.\n",
    "\n",
    "__Структура данных:__ в датасете встречаются значения признаков, которые принадлежат лишь небольшой доле бутылок, они могут не попасть в трейн и не учитываться при обучении.\n",
    "\n",
    "__Наличие других признаков:__ мы предполагаем, что существуют другие признаки, которые лучше коррелируют со стоимостью, возможно для этого стоит использовать другой источник данных."
   ]
  }
 ],
 "metadata": {
  "kernelspec": {
   "display_name": "Python 3 (ipykernel)",
   "language": "python",
   "name": "python3"
  },
  "language_info": {
   "codemirror_mode": {
    "name": "ipython",
    "version": 3
   },
   "file_extension": ".py",
   "mimetype": "text/x-python",
   "name": "python",
   "nbconvert_exporter": "python",
   "pygments_lexer": "ipython3",
   "version": "3.9.13"
  }
 },
 "nbformat": 4,
 "nbformat_minor": 5
}
