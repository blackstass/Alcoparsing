{
 "cells": [
  {
   "cell_type": "markdown",
   "id": "8ac6061d",
   "metadata": {},
   "source": [
    "# Парсинг"
   ]
  },
  {
   "cell_type": "code",
   "execution_count": 2,
   "id": "5e9050db",
   "metadata": {},
   "outputs": [],
   "source": [
    "import requests  \n",
    "from bs4 import BeautifulSoup\n",
    "from tqdm.notebook import tqdm\n",
    "import time\n",
    "import pandas as pd\n",
    "import re\n",
    "import numpy as np"
   ]
  },
  {
   "cell_type": "code",
   "execution_count": 3,
   "id": "62b731a3",
   "metadata": {},
   "outputs": [],
   "source": [
    "def get_soupec(url: str) -> BeautifulSoup:\n",
    "    response = requests.get(url)\n",
    "    return BeautifulSoup(response.content, 'html.parser')\n",
    "\n",
    "def get_grid(tree: BeautifulSoup):\n",
    "    return tree.find_all('div', {'class': 'catalog-grid__item'})"
   ]
  },
  {
   "cell_type": "markdown",
   "id": "54211faf",
   "metadata": {},
   "source": [
    " Соберем информацию, которая находится на карточках товаров в каталоге."
   ]
  },
  {
   "cell_type": "code",
   "execution_count": 4,
   "id": "eacea85f",
   "metadata": {},
   "outputs": [],
   "source": [
    "def get_bottle_info(bottle):\n",
    "    if bottle.find('a', {'class': 'product-snippet__name js-dy-slot-click'}) == None:\n",
    "        return\n",
    "    else:\n",
    "        href = bottle.find('a', {'class': 'product-snippet__name js-dy-slot-click'}).get('href')\n",
    "        name = bottle.find('a', {'class': 'product-snippet__name js-dy-slot-click'}).text.replace('\\xa0','').strip()\n",
    "        w_id = int(bottle.find('div', {'class': 'product-snippet__id'}).text.split('\\n')[2].strip())\n",
    "        \n",
    "        if bottle.find('div', {'class': 'product-snippet__price product-snippet__price_discount'}) == None:\n",
    "            base_price = int(bottle.find('div', {'class': 'product-snippet__price'}).text.replace('₽','').replace(' ', ''))\n",
    "            discount_size = None\n",
    "            discount_price = None\n",
    "        else:\n",
    "            base_price = int(bottle.find('div', {'class': 'product-snippet__discount'}).text.split('\\n')[1].replace('₽','').replace(' ', ''))\n",
    "            discount_size = -int(bottle.find('div', {'class': 'product-snippet__discount'}).text.split('\\n')[2].replace('%',''))\n",
    "            discount_price = int(bottle.find('div', {'class': 'product-snippet__price product-snippet__price_discount'}).text.replace('₽','').replace(' ', ''))\n",
    "        \n",
    "        simple_collection = (bottle.find('span', {'class': 'product-snippet__simple-collection'}) != None)\n",
    "        \n",
    "        basic_info = bottle.find('div', {'class': 'product-snippet__desc'}).find_all('a')\n",
    "        names = [str(i).replace('<a href=\"/catalog/vino/filter/', '').split('-')[0] for i in basic_info]\n",
    "        values = [str(i).split('\">')[1].replace('</a>','').replace('\\xa0','') for i in basic_info]\n",
    "        basic_info_dict = dict(zip(names,values))\n",
    "        \n",
    "        try:\n",
    "            country = basic_info_dict['country']\n",
    "        except KeyError:\n",
    "            country = None\n",
    "        try:\n",
    "            color = basic_info_dict['color']\n",
    "        except KeyError:\n",
    "            color = None\n",
    "        try:  \n",
    "            sweetness = basic_info_dict['sugar_type']\n",
    "        except KeyError:\n",
    "            sweetness = None\n",
    "        try:\n",
    "            volume = float(basic_info_dict['volume'].replace('л.',''))\n",
    "        except KeyError:\n",
    "            volume = None\n",
    "        \n",
    "        no_alco = bottle.find('div', {'class': 'product-snippet__ratings-noalco'}) != None\n",
    "        \n",
    "        if bottle.find_all('div', {'class': 'product-snippet__ratings-item'}) == None:\n",
    "            SW_rating = None\n",
    "            VIVINO_rating = None\n",
    "            WS_rating = None\n",
    "            RVF_rating = None\n",
    "            JS_rating = None\n",
    "            RP_rating = None\n",
    "            AM_rating = None\n",
    "            GR_rating = None\n",
    "            AIS_rating = None\n",
    "            PENIN_rating = None\n",
    "            ST_rating = None\n",
    "            JR_rating = None\n",
    "        else:\n",
    "            ratings = dict([rating.text.split('\\n')[1:3]  for rating in bottle.find_all('div', {'class': 'product-snippet__ratings-item'})])\n",
    "            all_rat_keys = ['VIVINO', 'WS', 'RVF', 'JS', 'RP', 'AM', 'GR', 'AIS', 'PENIN', 'ST', 'JR']\n",
    "            \n",
    "            if list(set(ratings.keys()).difference(all_rat_keys)):\n",
    "                SW_rating = float(list(set(ratings.keys()).difference(all_rat_keys))[0].strip())\n",
    "            else:\n",
    "                SW_rating = None\n",
    "            try:\n",
    "                VIVINO_rating = float(ratings.get('VIVINO'))\n",
    "            except TypeError:\n",
    "                VIVINO_rating = None\n",
    "            try:\n",
    "                WS_rating = float(ratings.get('WS'))\n",
    "            except TypeError:\n",
    "                WS_rating = None\n",
    "            try:\n",
    "                RVF_rating = float(ratings.get('RVF'))\n",
    "            except TypeError:\n",
    "                RVF_rating = None\n",
    "            try:\n",
    "                JS_rating = float(ratings.get('JS'))\n",
    "            except TypeError:\n",
    "                JS_rating = None\n",
    "            try:\n",
    "                RP_rating = float(ratings.get('RP'))\n",
    "            except TypeError:\n",
    "                RP_rating = None\n",
    "            try:\n",
    "                AM_rating = float(ratings.get('AM'))\n",
    "            except TypeError:\n",
    "                AM_rating = None\n",
    "            try:\n",
    "                GR_rating = float(ratings.get('GR'))\n",
    "            except TypeError:\n",
    "                GR_rating = None\n",
    "            try:\n",
    "                AIS_rating = float(ratings.get('AIS'))\n",
    "            except TypeError:\n",
    "                AIS_rating = None\n",
    "            try:\n",
    "                PENIN_rating = float(ratings.get('PENIN'))\n",
    "            except TypeError:\n",
    "                PENIN_rating = None\n",
    "            try:\n",
    "                ST_rating = float(ratings.get('ST'))\n",
    "            except TypeError:\n",
    "                ST_rating = None\n",
    "            try:\n",
    "                JR_rating = float(ratings.get('JR'))\n",
    "            except TypeError:\n",
    "                JR_rating = None\n",
    "            \n",
    "    return {'name': name,\n",
    "            'w_id': w_id,\n",
    "            'href': href,\n",
    "            'base_price': base_price,\n",
    "            'discount_size': discount_size,\n",
    "            'discount_price': discount_price,\n",
    "            'simple_collection': simple_collection,\n",
    "            'country': country,\n",
    "            'color': color,\n",
    "            'sweetness': sweetness,\n",
    "            'volume': volume,\n",
    "            'no_alco': no_alco,\n",
    "            'SW_rating': SW_rating,\n",
    "            'VIVINO_rating': VIVINO_rating,\n",
    "            'WS_rating': WS_rating,\n",
    "            'RVF_rating': RVF_rating,\n",
    "            'JS_rating': JS_rating,\n",
    "            'RP_rating': RP_rating,\n",
    "            'AM_rating': AM_rating,\n",
    "            'GR_rating': GR_rating,\n",
    "            'AIS_rating': AIS_rating,\n",
    "            'PENIN_rating': PENIN_rating,\n",
    "            'ST_rating': ST_rating,\n",
    "            'JR_rating': JR_rating}"
   ]
  },
  {
   "cell_type": "code",
   "execution_count": 5,
   "id": "f5983ec4",
   "metadata": {
    "scrolled": true
   },
   "outputs": [
    {
     "name": "stdout",
     "output_type": "stream",
     "text": [
      "Будет сделано, шеф!\n"
     ]
    },
    {
     "data": {
      "application/vnd.jupyter.widget-view+json": {
       "model_id": "a7ec8a8c75874d2b8a7cca8ac2156ff2",
       "version_major": 2,
       "version_minor": 0
      },
      "text/plain": [
       "  0%|          | 0/177 [00:00<?, ?it/s]"
      ]
     },
     "metadata": {},
     "output_type": "display_data"
    },
    {
     "name": "stdout",
     "output_type": "stream",
     "text": [
      "Готово!\n"
     ]
    }
   ],
   "source": [
    "url = 'https://simplewine.ru/catalog/vino/page'\n",
    "alco_data = []\n",
    "print('Будет сделано, шеф!')\n",
    "for p in tqdm(range(1, 178)):\n",
    "    alco_data.extend([get_bottle_info(i) for i in get_grid(get_soupec(url+str(p)))])\n",
    "    time.sleep(0.05)\n",
    "alco_data_result = list(filter(None, alco_data))\n",
    "print('Готово!')"
   ]
  },
  {
   "cell_type": "markdown",
   "id": "f396fbd0",
   "metadata": {},
   "source": [
    "Скопируем на всякий случай, чтобы ничего не испортить, так как следующая часть потребует намного больше времени."
   ]
  },
  {
   "cell_type": "code",
   "execution_count": 6,
   "id": "f9087aec",
   "metadata": {},
   "outputs": [],
   "source": [
    "alco_data_result_copy = alco_data_result.copy()"
   ]
  },
  {
   "cell_type": "markdown",
   "id": "297aac77",
   "metadata": {},
   "source": [
    "Напишем функцию, которая будет перехзодить по ссылкам с карточек и собирать всю оставшуюся информацию в наш словарик."
   ]
  },
  {
   "cell_type": "code",
   "execution_count": 16,
   "id": "59b75cd7",
   "metadata": {},
   "outputs": [],
   "source": [
    "def add_info(bottle):\n",
    "    soup = get_soupec('https://simplewine.ru/'+bottle['href'])\n",
    "    \n",
    "    brief_info = soup.find('dl', {'class': 'product-brief'})\n",
    "    try:\n",
    "        names = brief_info.text.split('\\n\\n')[:-1:2]\n",
    "        names = [i.replace('\\n','').replace(':','') for i in names]\n",
    "        values = brief_info.text.split('\\n\\n')[1::2]\n",
    "        brief_info_dict = dict(zip(names, values))\n",
    "    except AttributeError:\n",
    "        brief_info_dict = {}\n",
    "    \n",
    "    try:\n",
    "        bottle['grape'] = brief_info_dict.get('Виноград').replace('\\xa0','').split(',')\n",
    "    except AttributeError:\n",
    "        bottle['grape'] = None\n",
    "    try:\n",
    "        bottle['manufacturer'] = brief_info_dict.get('Производитель')\n",
    "    except TypeError:\n",
    "        bottle['manufacturer'] = None\n",
    "    try:\n",
    "        bottle['gift_wrap'] = (brief_info_dict.get('Подарочная упаковка') == 'Да')\n",
    "    except TypeError:\n",
    "        bottle['gift_wrap'] = False\n",
    "    \n",
    "    features_info = soup.find('ul', {'class': 'product-types__list'})\n",
    "    if features_info != None:\n",
    "        bottle['features'] = re.sub(r'([А-Я])', r' \\1', features_info.text.replace('\\n','').replace(' ','')).split()\n",
    "    else:\n",
    "        bottle['features'] = None\n",
    "    try:\n",
    "        more_info = soup.find('dl', {'class': 'characteristics-params__list'}).text.split('\\n\\n\\n\\n')\n",
    "        try:\n",
    "            more_info_dict = dict([i.replace('\\n', '').strip().split(':') for i in more_info])\n",
    "        except ValueError:\n",
    "            more_info_dict = {}\n",
    "    except AttributeError:\n",
    "        more_info_dict = {}\n",
    "    \n",
    "    try:\n",
    "        bottle['region'] = more_info_dict.get('Регион').strip()\n",
    "    except AttributeError:\n",
    "        bottle['region'] = None\n",
    "    try:\n",
    "        bottle['year'] = more_info_dict.get('Год').strip()\n",
    "    except AttributeError:\n",
    "        bottle['year'] = None\n",
    "    try:\n",
    "        bottle['strength'] = float(more_info_dict.get('Крепость').strip().replace('%',''))\n",
    "    except AttributeError:\n",
    "        bottle['strength'] = None\n",
    "    try:\n",
    "        bottle['storage_potential'] = more_info_dict.get('Потенциал хранения').strip()\n",
    "    except AttributeError:\n",
    "        bottle['storage_potential'] = None\n",
    "    try:\n",
    "        bottle['appellation'] = more_info_dict.get('Аппелласьон').strip()\n",
    "    except AttributeError:\n",
    "        bottle['appellation'] = None\n",
    "    try:\n",
    "        bottle['category'] = more_info_dict.get('Категория').strip()\n",
    "    except AttributeError:\n",
    "        bottle['category'] = None\n",
    "    try:\n",
    "        bottle['decantation'] = more_info_dict.get('Декантация').strip()\n",
    "    except AttributeError:\n",
    "        bottle['decantation'] = None\n",
    "    try:\n",
    "        bottle['aging_in_container'] = more_info_dict.get('Выдержка в емкости').strip()\n",
    "    except AttributeError:\n",
    "        bottle['aging_in_container'] = None\n",
    "    try:\n",
    "        tags_names = [i.text.split('\\n\\n')[0].replace('\\n','') for i in soup.find_all('div', {'class': 'product-tags__block'})]\n",
    "        tags_items = [[r.strip() for r in i.text.split('\\n\\n\\n')[1].split('\\n\\n')[:-1]] for i in soup.find_all('div', {'class': 'product-tags__block'})]\n",
    "        tags = dict(zip(tags_names, tags_items))\n",
    "    except ValueError:\n",
    "        tags = {}\n",
    "    try:\n",
    "        bottle['taste'] = tags.get('Вкус')\n",
    "    except AttributeError:\n",
    "        bottle['taste'] = None\n",
    "    try:\n",
    "        bottle['dishes'] = tags.get('Гастрономия')\n",
    "    except AttributeError:\n",
    "        bottle['dishes'] = None\n",
    "    try:\n",
    "        taste_names = [i.text.replace('\\n','').strip() for i in soup.find_all('li', {'class': 'taste__item'})]\n",
    "        taste_numbers = [(np.array([str(i) for i in list(r)[1:-1]]) == '<div class=\"taste__dot taste__dot_active\"></div>').sum() for r in soup.find_all('div', {'class': 'taste__dots'})]\n",
    "        dots = dict(zip(taste_names, taste_numbers))\n",
    "    except TypeError:\n",
    "        dots = {}\n",
    "    try:\n",
    "        bottle['sugar'] = dots.get('Сладость')\n",
    "    except AttributeError:\n",
    "        bottle['sugar'] = None\n",
    "    try:\n",
    "        bottle['acidity'] = dots.get('Кислотность')\n",
    "    except AttributeError:\n",
    "        bottle['acidity'] = None\n",
    "    try:\n",
    "        bottle['aromaticity'] = dots.get('Ароматичность')\n",
    "    except AttributeError:\n",
    "        bottle['aromaticity'] = None\n",
    "    try:\n",
    "        bottle['tannins'] = dots.get('Танины')\n",
    "    except AttributeError:\n",
    "        bottle['tannins'] = None\n",
    "    try:\n",
    "        bottle['body'] = dots.get('Тело')\n",
    "    except AttributeError:\n",
    "        bottle['body'] = None\n",
    "    try:\n",
    "        bottle['description'] = soup.find('div', {'class': 'characteristics-description'}).text.split('\\n\\n\\n\\n')[1:]\n",
    "    except AttributeError:\n",
    "        bottle['description'] = None"
   ]
  },
  {
   "cell_type": "code",
   "execution_count": 82,
   "id": "fbe3524a",
   "metadata": {},
   "outputs": [],
   "source": [
    "tags_names = [i.text.split('\\n\\n')[0].replace('\\n','') for i in soup.find_all('div', {'class': 'product-tags__block'})]\n",
    "tags_items = [[r.strip() for r in i.text.split('\\n\\n\\n')[1].split('\\n\\n')[:-1]] for i in soup.find_all('div', {'class': 'product-tags__block'})]"
   ]
  },
  {
   "cell_type": "code",
   "execution_count": 84,
   "id": "0bc5cfd7",
   "metadata": {},
   "outputs": [
    {
     "data": {
      "text/plain": [
       "{'Вкус': ['Минеральное',\n",
       "  'Долгое послевкусие',\n",
       "  'Белые фрукты',\n",
       "  'Долгое',\n",
       "  'Цитрусовое',\n",
       "  'Специи'],\n",
       " 'Гастрономия': ['Закуски, салаты и антипасто', 'Морепродукты', 'Рыба']}"
      ]
     },
     "execution_count": 84,
     "metadata": {},
     "output_type": "execute_result"
    }
   ],
   "source": [
    "tags = dict(zip(tags_names, tags_items))\n",
    "tags"
   ]
  },
  {
   "cell_type": "code",
   "execution_count": 81,
   "id": "64415fe6",
   "metadata": {},
   "outputs": [
    {
     "data": {
      "text/plain": [
       "['                        Минеральное                    ',\n",
       " '                        Долгое послевкусие                    ',\n",
       " '                        Белые фрукты                    ',\n",
       " '                        Долгое                    ',\n",
       " '                        Цитрусовое                    ',\n",
       " '                        Специи                    ']"
      ]
     },
     "execution_count": 81,
     "metadata": {},
     "output_type": "execute_result"
    }
   ],
   "source": [
    "soup.find_all('div', {'class': 'product-tags__block'})[0].text.split('\\n\\n\\n')[1].split('\\n\\n')[:-1]"
   ]
  },
  {
   "cell_type": "code",
   "execution_count": 19,
   "id": "804f49d2",
   "metadata": {
    "scrolled": true
   },
   "outputs": [
    {
     "data": {
      "application/vnd.jupyter.widget-view+json": {
       "model_id": "175e782d4f234931af361d0078717c67",
       "version_major": 2,
       "version_minor": 0
      },
      "text/plain": [
       "  0%|          | 0/3644 [00:00<?, ?it/s]"
      ]
     },
     "metadata": {},
     "output_type": "display_data"
    }
   ],
   "source": [
    "for bottle in tqdm(alco_data_result_copy[1868:]):\n",
    "    add_info(bottle)\n",
    "    time.sleep(0.01)"
   ]
  },
  {
   "cell_type": "code",
   "execution_count": 20,
   "id": "9a5f37eb",
   "metadata": {},
   "outputs": [],
   "source": [
    "df_new = pd.DataFrame(alco_data_result_copy)"
   ]
  },
  {
   "cell_type": "markdown",
   "id": "d9fd38af",
   "metadata": {},
   "source": [
    "Всего каких-то 3,5 часа и датасет собран)"
   ]
  },
  {
   "cell_type": "markdown",
   "id": "93809096",
   "metadata": {},
   "source": [
    "Экспортируем данные в эксель таблицу, чтобы можно было с ними ознакомиться и начать анализ."
   ]
  },
  {
   "cell_type": "code",
   "execution_count": 21,
   "id": "11801bd1",
   "metadata": {},
   "outputs": [],
   "source": [
    "df_new.to_csv('/Users/cernenkostanislav/Desktop/Анализ на питон/Алкопарсингновый.csv')"
   ]
  },
  {
   "cell_type": "code",
   "execution_count": null,
   "id": "a43e66f8",
   "metadata": {},
   "outputs": [],
   "source": []
  }
 ],
 "metadata": {
  "kernelspec": {
   "display_name": "Python 3 (ipykernel)",
   "language": "python",
   "name": "python3"
  },
  "language_info": {
   "codemirror_mode": {
    "name": "ipython",
    "version": 3
   },
   "file_extension": ".py",
   "mimetype": "text/x-python",
   "name": "python",
   "nbconvert_exporter": "python",
   "pygments_lexer": "ipython3",
   "version": "3.9.13"
  }
 },
 "nbformat": 4,
 "nbformat_minor": 5
}
