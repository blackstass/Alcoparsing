{
 "cells": [
  {
   "cell_type": "code",
   "execution_count": 1,
   "id": "66736b00",
   "metadata": {
    "scrolled": true
   },
   "outputs": [
    {
     "name": "stdout",
     "output_type": "stream",
     "text": [
      "Populating the interactive namespace from numpy and matplotlib\n"
     ]
    }
   ],
   "source": [
    "import pandas as pd\n",
    "import numpy as np\n",
    "from matplotlib import pyplot as plt\n",
    "import seaborn as sns\n",
    "import warnings\n",
    "import itertools\n",
    "import collections\n",
    "warnings.filterwarnings(\"ignore\")\n",
    "\n",
    "plt.style.use(\"seaborn\")\n",
    "%pylab inline"
   ]
  },
  {
   "cell_type": "markdown",
   "id": "3d16b821",
   "metadata": {},
   "source": [
    "# Работа с данными и визуализация"
   ]
  },
  {
   "cell_type": "code",
   "execution_count": 2,
   "id": "c98f0390",
   "metadata": {},
   "outputs": [],
   "source": [
    "df = pd.read_csv('Алкопарсингновый.csv')\n",
    "\n",
    "# заранее сделал копию изначального DataFrame, чтобы сохранились данные без 95% квантиля\n",
    "df_without_quantile = df"
   ]
  },
  {
   "cell_type": "markdown",
   "id": "5943d19a",
   "metadata": {},
   "source": [
    "## Описание данных:\n",
    "\n",
    "`name` - полное название вина\n",
    "\n",
    "`w_id` - ID конретного вина на сайте SimpleWine\n",
    "\n",
    "`href` - ссылка на вино на сайте\n",
    "\n",
    "`base_price` - начальная цена бутылки вина (руб)\n",
    "\n",
    "`discount_size` - предоставляемая скидка (%)\n",
    "\n",
    "`discount_price` - скидочная цена бутылки вина\n",
    "\n",
    "`simple_collection` - состоит ли бутылка вина в коллекции магазина SimpleWine\n",
    "\n",
    "`country` - страна производства\n",
    "\n",
    "`color` - цвет вина\n",
    "\n",
    "`sweetness` - вкус вина\n",
    "\n",
    "`volume` - объём бутылки\n",
    "\n",
    "`SW_rating`, `VIVINO_rating` - клиентский рейтинг вин\n",
    "\n",
    "`WS_rating`, `RVF_rating`, `JS_rating`, `RP_rating`, `AM_rating`, `GR_rating`, `AIS_rating`, `PENIN_rating`, `ST_rating`, `JR_rating` - рейтинги различных критиков\n",
    "\n",
    "`grape` - сорт винограда\n",
    "\n",
    "`manufacturerz` - производитель вина\n",
    "\n",
    "`features` - дополнительные характеристиики вина\n",
    "\n",
    "`region` - региона производства вина\n",
    "\n",
    "`year` - год производства\n",
    "\n",
    "`strength` - крепкость вина (содержание алкоголя)\n",
    "\n",
    "`storage_potential` - срок годности\n",
    "\n",
    "`appelltion` - гос стандарт для выращивания вина\n",
    "\n",
    "`category` - категория вина\n",
    "\n",
    "`decantation` - рекомендуется ли декантация вина\n",
    "\n",
    "`aging_in_container` - где вино настаивалось\n",
    "\n",
    "`taste` - вкус вина\n",
    "\n",
    "`dishes` - к каким блюдам подается вино\n",
    "\n",
    "`sugar` - содержание сахара (по 5-бальной шкале)\n",
    "\n",
    "`acidity` - кислотность (по 5-бальной шкале)\n",
    "\n",
    "`aromaticity` - ароматические свойства вина (по 5-бальной шкале)\n",
    "\n",
    "`tannins` - таннины (по 5-бальной шкале)\n",
    "\n",
    "`body` - тело вина (по 5-бальной шкале)\n",
    "\n",
    "`description` - описание вина на сайте"
   ]
  },
  {
   "cell_type": "markdown",
   "id": "f62c1830",
   "metadata": {},
   "source": [
    "# Часть 1"
   ]
  },
  {
   "cell_type": "markdown",
   "id": "60740489",
   "metadata": {},
   "source": [
    "## Предобработка полученного DataFrame"
   ]
  },
  {
   "cell_type": "code",
   "execution_count": 3,
   "id": "086caf1b",
   "metadata": {
    "scrolled": true
   },
   "outputs": [
    {
     "name": "stdout",
     "output_type": "stream",
     "text": [
      "(5512, 45)\n"
     ]
    }
   ],
   "source": [
    "# Спарсили по 45 признаков на 5512 бутылок вина\n",
    "print(df.shape)"
   ]
  },
  {
   "cell_type": "code",
   "execution_count": 4,
   "id": "8e80f103",
   "metadata": {},
   "outputs": [
    {
     "data": {
      "text/plain": [
       "(4436, 4436)"
      ]
     },
     "execution_count": 4,
     "metadata": {},
     "output_type": "execute_result"
    }
   ],
   "source": [
    "# заметим, что длина уникальных значений по колонкам 'w_id' и 'href' совпадают и равняются 4436, \n",
    "# что говорит нам о том, что в первоначальном DataFrame были несколько дубликатов\n",
    "len(df['w_id'].unique()), len(df['href'].unique())"
   ]
  },
  {
   "cell_type": "code",
   "execution_count": 5,
   "id": "23f86377",
   "metadata": {},
   "outputs": [
    {
     "name": "stdout",
     "output_type": "stream",
     "text": [
      "Количество дубликатов: 1076\n"
     ]
    }
   ],
   "source": [
    "# посчитаем количество повторяющихся строк\n",
    "print('Количество дубликатов:', df.shape[0] - len(df['w_id'].unique()))\n",
    "\n",
    "# удалим все повторяющиеся строки (дубликаты)\n",
    "df.drop_duplicates(subset='w_id', keep='first', inplace=True)"
   ]
  },
  {
   "cell_type": "code",
   "execution_count": 6,
   "id": "9ac8646c",
   "metadata": {},
   "outputs": [],
   "source": [
    "# заметим, что в столбце 'gift_wrap' только одно значение - False\n",
    "df['gift_wrap'].value_counts()\n",
    "\n",
    "# столбец 'gift_wrap'не несёт какой-либо смысловой нагрузки => удаляем\n",
    "df.drop('gift_wrap', axis=1, inplace=True)\n",
    "\n",
    "# столбец 'Unnamed: 0' не несёт никакой информации => удаляем\n",
    "df.drop('Unnamed: 0', axis=1, inplace=True)"
   ]
  },
  {
   "cell_type": "code",
   "execution_count": 7,
   "id": "83ecaadb",
   "metadata": {
    "scrolled": true
   },
   "outputs": [],
   "source": [
    "# в нашем DataFrame есть наборы вин (по 2-6 штук в каждом) => надо от них избавиться\n",
    "nabor_and_set = df.loc[(df['name'].str.split().str[:2].str.join(' ') == 'Вино Набор') \n",
    "   | (df['name'].str.split().str[:2].str.join(' ') == 'Вино Set')].index\n",
    "\n",
    "# удаляем все наборы из нашего DataFrame \n",
    "df.drop(index=nabor_and_set, inplace=True)\n",
    "\n",
    "# удалим ещё парочку наборов, которые имеют нестандратное название \n",
    "dop_nabor_and_set = ['/catalog/product/brunello_di_montalcino_castelgiocondo__075_gift_124834/', \n",
    "                     '/catalog/product/nab_petrikor_aligote_petrikor_krasnoe_v_p_u_075_gift_140054/']\n",
    "# (мы их нашли вручную и будем удалять из DataFrame по 'href')\n",
    "\n",
    "Dop_nabor_and_set = df.loc[df['href'].isin(dop_nabor_and_set)].index\n",
    "# удаляем наборы с нестандартными названиями\n",
    "df.drop(index=Dop_nabor_and_set, inplace=True)"
   ]
  },
  {
   "cell_type": "code",
   "execution_count": 8,
   "id": "14e949d3",
   "metadata": {},
   "outputs": [
    {
     "data": {
      "text/plain": [
       "Вино        4391\n",
       "Херес         17\n",
       "Портвейн      17\n",
       "Name: name, dtype: int64"
      ]
     },
     "execution_count": 8,
     "metadata": {},
     "output_type": "execute_result"
    }
   ],
   "source": [
    "# в нашем ДатаФрейме есть не только вина\n",
    "df['name'].str.split().str[0].value_counts()"
   ]
  },
  {
   "cell_type": "code",
   "execution_count": 9,
   "id": "9e967d1e",
   "metadata": {},
   "outputs": [],
   "source": [
    "# создадим для удобства обработки данных новый столбец с типом алкогольных напитков\n",
    "df['type'] = df['name'].str.split().str[0]\n",
    "\n",
    "# удаляем Портвейны и Хересы\n",
    "port_and_her = df.loc[(df['type'] == 'Портвейн') | (df['type'] == 'Херес')].index\n",
    "df.drop(index=port_and_her, inplace=True)"
   ]
  },
  {
   "cell_type": "code",
   "execution_count": 10,
   "id": "f58d3f0e",
   "metadata": {},
   "outputs": [],
   "source": [
    "# проверяем столбец 'type' на информативность\n",
    "df['type'].value_counts()\n",
    "\n",
    "# удаляем столбец 'type', поскольку уже не нужен\n",
    "df.drop('type', axis=1, inplace=True)"
   ]
  },
  {
   "cell_type": "code",
   "execution_count": 11,
   "id": "8e99f44b",
   "metadata": {
    "scrolled": true
   },
   "outputs": [
    {
     "name": "stdout",
     "output_type": "stream",
     "text": [
      "(4391, 43)\n"
     ]
    }
   ],
   "source": [
    "# чистый однобутылочный винный DataFrame\n",
    "print(df.shape)"
   ]
  },
  {
   "cell_type": "markdown",
   "id": "1fa98b7d",
   "metadata": {},
   "source": [
    "# Часть 2"
   ]
  },
  {
   "cell_type": "markdown",
   "id": "d27f0b56",
   "metadata": {},
   "source": [
    "## Продолжаем обрабатывать данные и разбираемся с пропусками"
   ]
  },
  {
   "cell_type": "code",
   "execution_count": 12,
   "id": "58151d15",
   "metadata": {},
   "outputs": [
    {
     "name": "stdout",
     "output_type": "stream",
     "text": [
      "(4267, 42)\n"
     ]
    }
   ],
   "source": [
    "# удаляем все признаки, где количество пропусков не превышает 50, поскольку сильно они ничего не поменяют\n",
    "pystushki = ['color', 'sweetness', 'grape', 'manufacturer', 'region', 'strength', 'storage_potential', 'aging_in_container', 'taste']\n",
    "for i in range(len(pystushki)):\n",
    "    df.drop(index=df[df[pystushki[i]].isna()].index, inplace=True)\n",
    "    \n",
    "# удалим и оставшиеся 35 строк с пустыми значениями в столбце 'year'\n",
    "df.drop(index=df[df['year'].isna()].index, inplace=True)\n",
    "\n",
    "# заметим, что столбец 'no_alco' больше не имеет никакой смысловой нагрузаи => удаляем\n",
    "df.drop('no_alco', axis=1, inplace=True)\n",
    "\n",
    "print(df.shape)"
   ]
  },
  {
   "cell_type": "code",
   "execution_count": 13,
   "id": "102995ce",
   "metadata": {},
   "outputs": [],
   "source": [
    "# избавимся от слишком дорогих вин в нашем DataFrame (выбросы нам не нужны)\n",
    "threshold = df['base_price'].quantile(0.95)\n",
    "df = df[df['base_price'] <= threshold]"
   ]
  },
  {
   "cell_type": "code",
   "execution_count": 14,
   "id": "a6e8f479",
   "metadata": {
    "scrolled": false
   },
   "outputs": [
    {
     "name": "stdout",
     "output_type": "stream",
     "text": [
      "Уникальные значения признака: decantation\n",
      "['не рекомендуется' 'декантация' 'аэрация' nan]\n",
      "\n",
      "Уникальные значения признака: sugar\n",
      "[ 1.  2.  3.  4.  5. nan]\n",
      "\n",
      "Уникальные значения признака: acidity\n",
      "[ 0.  1.  2.  3.  4.  5. nan]\n",
      "\n",
      "Уникальные значения признака: aromaticity\n",
      "[ 2.  3.  4.  5. nan]\n",
      "\n",
      "Уникальные значения признака: tannins\n",
      "[ 2.  3.  4.  5. nan]\n",
      "\n",
      "Уникальные значения признака: body\n",
      "[ 0.  1.  2.  3.  4.  5. nan]\n",
      "\n"
     ]
    }
   ],
   "source": [
    "chto_to = ['decantation', 'sugar', 'acidity', 'aromaticity', 'tannins', 'body']\n",
    "for i in range(len(chto_to)):\n",
    "    print('Уникальные значения признака:', chto_to[i])\n",
    "    if chto_to[i] != 'decantation':\n",
    "        print(np.sort(df[chto_to[i]].unique())[::1])\n",
    "    else:\n",
    "        print(df[chto_to[i]].unique())\n",
    "    print()"
   ]
  },
  {
   "cell_type": "code",
   "execution_count": 15,
   "id": "bd427657",
   "metadata": {},
   "outputs": [
    {
     "name": "stdout",
     "output_type": "stream",
     "text": [
      "Количество бутылок с 1 рейтингом: 1420\n",
      "Количество бутылок с 2 рейтингами: 1509\n",
      "Количество бутылок с 3 рейтингами: 435\n",
      "Количество бутылок с 4 рейтингами: 196\n",
      "Количество бутылок с 5 рейтингами: 54\n",
      "Количество бутылок с 6 рейтингами: 1\n",
      "\n",
      "У 439 вин нет ни одного рейтинга\n"
     ]
    }
   ],
   "source": [
    "# подумаем, что делать с рейтингами, их у нас 12 различных штук\n",
    "ratings = ['SW_rating', 'VIVINO_rating', 'WS_rating', 'RVF_rating', 'JS_rating', \n",
    "           'RP_rating', 'AM_rating', 'GR_rating', 'AIS_rating', 'PENIN_rating', \n",
    "           'ST_rating', 'JR_rating']\n",
    "rate = df[ratings]\n",
    "\n",
    "# посчитаем какое количество оценок у вин\n",
    "for i in range(1, len(ratings)):\n",
    "    if i == 1:\n",
    "        print('Количество бутылок с', i, 'рейтингом:', (rate.count(axis=1) == i).sum())\n",
    "    else:\n",
    "        if (rate.count(axis=1) == i).sum() != 0:\n",
    "            print('Количество бутылок с', i, 'рейтингами:', len(rate[rate.isna().sum(axis=1) == (12 - i)]))\n",
    "# это нам говорит о том, что максимум у вина может быть 6 различных оценок\n",
    "\n",
    "# посмотрим сколько всего вин вообще никак не оценены (нет ни одного рейтинга)\n",
    "print()\n",
    "print('У', rate[rate.isna().all(axis=1)].shape[0], 'вин нет ни одного рейтинга')"
   ]
  },
  {
   "cell_type": "code",
   "execution_count": 16,
   "id": "6ad3391f",
   "metadata": {
    "scrolled": true
   },
   "outputs": [
    {
     "name": "stdout",
     "output_type": "stream",
     "text": [
      "Название рейтинга: SW_rating\n",
      "[2.3 2.8 2.9 3.  3.2 3.3 3.4 3.5 3.7 3.8 3.9 4.  4.1 4.2 4.3 4.4 4.5 4.6\n",
      " 4.7 4.8 4.9 5.  nan]\n",
      "Количество уникальных значений - 23\n",
      "Всего пропусков этого рейтинга - 1157\n",
      "\n",
      "Название рейтинга: VIVINO_rating\n",
      "[3.7 3.8 3.9 4.  4.1 4.2 4.3 4.4 4.5 4.6 4.7 nan]\n",
      "Количество уникальных значений - 12\n",
      "Всего пропусков этого рейтинга - 1816\n",
      "\n",
      "Название рейтинга: WS_rating\n",
      "[ 86.  87.  88.  89.  90.  91.  92.  93.  94.  95.  96.  97.  98.  99.\n",
      " 100.  nan]\n",
      "Количество уникальных значений - 16\n",
      "Всего пропусков этого рейтинга - 3779\n",
      "\n",
      "Название рейтинга: RVF_rating\n",
      "[19. nan]\n",
      "Количество уникальных значений - 2\n",
      "Всего пропусков этого рейтинга - 4052\n",
      "\n",
      "Название рейтинга: JS_rating\n",
      "[ 89.  90.  91.  92.  93.  94.  95.  96.  97.  98.  99. 100.  nan]\n",
      "Количество уникальных значений - 13\n",
      "Всего пропусков этого рейтинга - 3408\n",
      "\n",
      "Название рейтинга: RP_rating\n",
      "[ 87.  88.  89.  90.  91.  92.  93.  94.  95.  96.  97.  98.  99. 100.\n",
      "  nan]\n",
      "Количество уникальных значений - 15\n",
      "Всего пропусков этого рейтинга - 3466\n",
      "\n",
      "Название рейтинга: AM_rating\n",
      "[88. 89. 90. 91. 92. 93. 94. nan]\n",
      "Количество уникальных значений - 8\n",
      "Всего пропусков этого рейтинга - 4018\n",
      "\n",
      "Название рейтинга: GR_rating\n",
      "[ 2.  3. nan]\n",
      "Количество уникальных значений - 3\n",
      "Всего пропусков этого рейтинга - 4024\n",
      "\n",
      "Название рейтинга: AIS_rating\n",
      "[ 3.  4.  5. nan]\n",
      "Количество уникальных значений - 4\n",
      "Всего пропусков этого рейтинга - 4029\n",
      "\n",
      "Название рейтинга: PENIN_rating\n",
      "[88. 89. 90. 91. 92. 93. 94. 95. 97. nan]\n",
      "Количество уникальных значений - 10\n",
      "Всего пропусков этого рейтинга - 4030\n",
      "\n",
      "Название рейтинга: ST_rating\n",
      "[87. 90. nan]\n",
      "Количество уникальных значений - 3\n",
      "Всего пропусков этого рейтинга - 4052\n",
      "\n",
      "Название рейтинга: JR_rating\n",
      "[15.  16.  16.5 17.  17.5 18.  18.5 19.  19.5  nan]\n",
      "Количество уникальных значений - 10\n",
      "Всего пропусков этого рейтинга - 4014\n",
      "\n"
     ]
    }
   ],
   "source": [
    "for i in range(len(ratings)):\n",
    "    print('Название рейтинга:', ratings[i])\n",
    "    print(np.sort(rate[ratings[i]].unique())[::1])\n",
    "    print('Количество уникальных значений -', len(rate[ratings[i]].unique()))\n",
    "    print('Всего пропусков этого рейтинга -', rate[ratings[i]].isnull().sum())\n",
    "    print()"
   ]
  },
  {
   "cell_type": "markdown",
   "id": "8f0d757f",
   "metadata": {},
   "source": [
    "**В нашем DataFrame всего 12 различных оценочных рейтингов. Мы их разделим на 2 группы:**\n",
    "1. Рейнтиги критиков: WS_rating, RVF_rating, JS_rating, RP_rating, AM_rating, GR_rating, AIS_rating, PENIN_rating, ST_rating, JR_rating.\n",
    "2. Рейтинги клиентов: SW_rating, VIVINO_rating\n",
    "\n",
    "Возьмём средние оценки среди рейнтигов внутри каждой группы и создадим два новых столбца с полученными значениями"
   ]
  },
  {
   "cell_type": "markdown",
   "id": "f112e801",
   "metadata": {},
   "source": [
    "Чтобы мы могли посчитать корректное среднее значение по рейнтигам, то в первую очередь должны всё привести к единой системе измерения. Поскольку в нашем DataFrame есть 5-бальные, 20-бальные и 100-бальные рейтинги"
   ]
  },
  {
   "cell_type": "code",
   "execution_count": 17,
   "id": "16cdd71c",
   "metadata": {},
   "outputs": [],
   "source": [
    "# для рейнтига критиков - переводим в 100-бальную систему\n",
    "df['RVF_rating'] *= 5\n",
    "df['GR_rating'] /= 3\n",
    "df['GR_rating'] *= 100\n",
    "df['AIS_rating'] *= 20\n",
    "df['JR_rating'] *= 5\n",
    "\n",
    "# для клиентского рейнтига - переводим в 100-бальную систему\n",
    "df['SW_rating'] *= 20\n",
    "df['VIVINO_rating'] *= 20\n",
    "\n",
    "# создадим два новых столбца с клиентким рейтингом и рейнтигом критиков\n",
    "df['client_rating'] = df[['SW_rating', 'VIVINO_rating']].mean(axis=1)\n",
    "df['critic_rating'] = df[['WS_rating', 'RVF_rating', 'JS_rating', \n",
    "           'RP_rating', 'AM_rating', 'GR_rating', 'AIS_rating', 'PENIN_rating', \n",
    "           'ST_rating', 'JR_rating']].mean(axis=1)"
   ]
  },
  {
   "cell_type": "code",
   "execution_count": 18,
   "id": "93bbd5c5",
   "metadata": {
    "scrolled": true
   },
   "outputs": [
    {
     "data": {
      "text/html": [
       "<div>\n",
       "<style scoped>\n",
       "    .dataframe tbody tr th:only-of-type {\n",
       "        vertical-align: middle;\n",
       "    }\n",
       "\n",
       "    .dataframe tbody tr th {\n",
       "        vertical-align: top;\n",
       "    }\n",
       "\n",
       "    .dataframe thead th {\n",
       "        text-align: right;\n",
       "    }\n",
       "</style>\n",
       "<table border=\"1\" class=\"dataframe\">\n",
       "  <thead>\n",
       "    <tr style=\"text-align: right;\">\n",
       "      <th></th>\n",
       "      <th>client_rating</th>\n",
       "      <th>critic_rating</th>\n",
       "      <th>otklonenue</th>\n",
       "    </tr>\n",
       "  </thead>\n",
       "  <tbody>\n",
       "    <tr>\n",
       "      <th>mean</th>\n",
       "      <td>88.012069</td>\n",
       "      <td>92.579751</td>\n",
       "      <td>6.343279</td>\n",
       "    </tr>\n",
       "    <tr>\n",
       "      <th>median</th>\n",
       "      <td>88.000000</td>\n",
       "      <td>92.333333</td>\n",
       "      <td>6.000000</td>\n",
       "    </tr>\n",
       "    <tr>\n",
       "      <th>min</th>\n",
       "      <td>46.000000</td>\n",
       "      <td>60.000000</td>\n",
       "      <td>0.000000</td>\n",
       "    </tr>\n",
       "    <tr>\n",
       "      <th>max</th>\n",
       "      <td>100.000000</td>\n",
       "      <td>100.000000</td>\n",
       "      <td>27.000000</td>\n",
       "    </tr>\n",
       "  </tbody>\n",
       "</table>\n",
       "</div>"
      ],
      "text/plain": [
       "        client_rating  critic_rating  otklonenue\n",
       "mean        88.012069      92.579751    6.343279\n",
       "median      88.000000      92.333333    6.000000\n",
       "min         46.000000      60.000000    0.000000\n",
       "max        100.000000     100.000000   27.000000"
      ]
     },
     "execution_count": 18,
     "metadata": {},
     "output_type": "execute_result"
    }
   ],
   "source": [
    "# создадим новый столбик с значением модуля рахности клиентского рейтинга и рейнтига критиков\n",
    "df['otklonenue'] = abs(df['client_rating'] - df['critic_rating'])\n",
    "\n",
    "df[['client_rating', 'critic_rating', 'otklonenue']].agg(['mean', 'median', 'min', 'max'])"
   ]
  },
  {
   "cell_type": "code",
   "execution_count": 19,
   "id": "c8a28044",
   "metadata": {},
   "outputs": [],
   "source": [
    "# некоторые признаки, которые должны быть списками, превратились в строки, исправим\n",
    "for c in ['grape', 'features', 'taste', 'dishes', 'description']:\n",
    "    df[c][df[c].isnull() == False] = df[c][df[c].isnull() == False].apply(eval)"
   ]
  },
  {
   "cell_type": "code",
   "execution_count": 20,
   "id": "409db0f0",
   "metadata": {},
   "outputs": [],
   "source": [
    "# разделим английские слова, которые не разделились при парсинге\n",
    "for i in range(len(df['features'])):\n",
    "    if df['features'].iloc[i] == ['GreenselectionSustainable']:\n",
    "        df['features'].iloc[i] = re.findall('[A-Z][^A-Z]*', df['features'].iloc[i][0])"
   ]
  },
  {
   "cell_type": "code",
   "execution_count": 21,
   "id": "79c4c7a7",
   "metadata": {},
   "outputs": [],
   "source": [
    "# уберем процентное содержание винограда и превратим в список\n",
    "for i in range(len(df['grape'])):\n",
    "    pattern = r'[0-9]'\n",
    "    df['grape'].iloc[i] = [re.sub(pattern, '', s).replace('%','').strip() for s in df['grape'].iloc[i]]"
   ]
  },
  {
   "cell_type": "code",
   "execution_count": 22,
   "id": "e7b9584c",
   "metadata": {},
   "outputs": [],
   "source": [
    "#найдем самый популярный виноград для каждой страны\n",
    "most_popular_grape = {}\n",
    "for c in df['country'].values:\n",
    "    listik = list(df['grape'][df['country']==c])\n",
    "    flat_listik = list(itertools.chain(*listik))\n",
    "    most_popular_grape[c] = max(collections.Counter(flat_listik), key=collections.Counter(flat_listik).get)"
   ]
  },
  {
   "cell_type": "markdown",
   "id": "1949c42a",
   "metadata": {},
   "source": [
    "# Часть 3"
   ]
  },
  {
   "cell_type": "markdown",
   "id": "9970f7b0",
   "metadata": {},
   "source": [
    "## Виузализация DataFrame"
   ]
  },
  {
   "cell_type": "markdown",
   "id": "c1c80cb1",
   "metadata": {},
   "source": [
    "Мы нашли интересную визуализацию данных в виде карты мира, которая сразу предоставит читателю полную картину по данным, которые мы спарсили. Мы постарались вынести на карту самые информативыне показатели нашего DataFrame.\n",
    "\n",
    "Но перед тем, как его реализовать необходимо подготовить все данные"
   ]
  },
  {
   "cell_type": "code",
   "execution_count": 23,
   "id": "7ddaf121",
   "metadata": {},
   "outputs": [],
   "source": [
    "# сгруппировали данные по странам и вывели некоторые статистические наблюдения\n",
    "metrics_by_country = df.groupby(['country'])['base_price'].agg(['count', 'mean', 'median', 'min', 'max']\n",
    "                                         ).round().reset_index().sort_values('country')\n",
    "# мы сразу же отсортировали этот DataFrame по странам в алфавитном порядке, \n",
    "# чтобы в дальнейшем не было путаниц c очередностью стран (а так они стоят в алфавитном порядке)\n",
    "# раположили в алфавитном порядке и сделали список из всех представленных стран"
   ]
  },
  {
   "cell_type": "code",
   "execution_count": 24,
   "id": "7b187980",
   "metadata": {},
   "outputs": [],
   "source": [
    "# cоздадим словарь с кодами стран, состоящие из 3ёх заглавных букв (выставленные в алфавитном порядке на рус языке)\n",
    "сountry_code = ['AUS', 'AUT', 'ARG', 'ARM', 'HUN', 'DEU', 'GRC', 'GEO', \n",
    "                'ISR', 'ESP', 'ITA', 'NZL', 'PRT', 'MDA', 'RUS', 'SRB', \n",
    "                'SVN', 'USA', 'FRA', 'CHL', 'ZAF']\n",
    "\n",
    "# сразу же добавим ко всем показателям\n",
    "metrics_by_country.insert(0, 'CODE', сountry_code)\n",
    "\n",
    "# мы перевели страны в коды, чтобы найденная нами визуализация заработала, \n",
    "# поскольку она работает именно на этих кодах"
   ]
  },
  {
   "cell_type": "code",
   "execution_count": 25,
   "id": "ae469e23",
   "metadata": {},
   "outputs": [],
   "source": [
    "# добавим значения самых дорогих вин из DataFrame без квантиля\n",
    "expensive_wines = df_without_quantile.groupby(['country'])['base_price'].agg(['max']).reset_index().sort_values('country')\n",
    "# обязательно отсортировали по алфавиту, чтобы в итоговой таблице все значения находились на своих местах\n",
    "\n",
    "# добавляем ко всем показателям\n",
    "metrics_by_country['MAX'] = expensive_wines['max']\n",
    "# и удаляем максимальыне значения при 95% квантиле\n",
    "metrics_by_country.drop('max', axis=1, inplace=True)"
   ]
  },
  {
   "cell_type": "code",
   "execution_count": 26,
   "id": "802e1b02",
   "metadata": {},
   "outputs": [],
   "source": [
    "# чуть позже мы получили словарь с самыми популярными видами винограда в каждой стране (most_popular_grape)\n",
    "# чуть поменяем его вид, чтобы было удобнее работать\n",
    "popular_grape = {'country': ['Франция', 'Португалия', 'Россия', 'Испания', 'Италия', 'Германия', 'Аргентина', 'Южная Африка', 'Австрия', 'Грузия', 'Чили', 'Австралия', 'Израиль', 'Соединенные Штаты Америки', 'Новая Зеландия', 'Сербия', 'Греция', 'Венгрия', 'Республика Молдова', 'Армения', 'Словения'],\n",
    "        'grape': ['мерло', 'турига насьональ', 'каберне совиньон', 'темпранильо', 'санджовезе', 'рислинг', 'шардоне', 'шенен блан', 'грюнер вельтлинер', 'саперави', 'каберне совиньон', 'шираз', 'каберне совиньон', 'каберне совиньон', 'пино нуар', 'шардоне', 'мерло', 'фурминт', 'каберне совиньон', 'арени', 'фурминт']}\n",
    "\n",
    "# создаем ещё один дата фрейм и обязательно сортируем страны по алфавиту\n",
    "grape = pd.DataFrame(popular_grape).sort_values('country')\n",
    "\n",
    "# добавляем ко всем показателям\n",
    "metrics_by_country['grape'] = grape['grape']"
   ]
  },
  {
   "cell_type": "code",
   "execution_count": 27,
   "id": "f031ff28",
   "metadata": {},
   "outputs": [],
   "source": [
    "# найдем самый распространненый цвет вина по странам\n",
    "spisok_favorite_color = []\n",
    "for i in range(len(metrics_by_country['country'])):\n",
    "    favorite = df[df['country'] == metrics_by_country['country'][i]\n",
    "                  ]['color'].value_counts().to_frame().reset_index()['index'][0]\n",
    "    spisok_favorite_color.append(favorite)\n",
    "\n",
    "# добавляем ко всем показателям\n",
    "metrics_by_country['fav_color'] = spisok_favorite_color"
   ]
  },
  {
   "cell_type": "code",
   "execution_count": 28,
   "id": "b0098709",
   "metadata": {},
   "outputs": [],
   "source": [
    "# найдем самых популярных производителей вина в каждой стране\n",
    "spisok_popular_manufacturer = []\n",
    "for i in range(len(metrics_by_country['country'])):\n",
    "    popular = df[df['country'] == metrics_by_country['country'][i]\n",
    "                  ]['manufacturer'].value_counts().to_frame().reset_index()['index'][0]\n",
    "    spisok_popular_manufacturer.append(popular)\n",
    "\n",
    "# добавляем ко всем показателям\n",
    "metrics_by_country['popular_manufacturer'] = spisok_popular_manufacturer\n",
    "\n",
    "# избавимся от float\n",
    "metrics_by_country['mean'] = metrics_by_country['mean'].astype(int)\n",
    "# Наш DataFrame со статистическими показателями по всем странам готов"
   ]
  },
  {
   "cell_type": "code",
   "execution_count": 29,
   "id": "253036e2",
   "metadata": {},
   "outputs": [],
   "source": [
    "# подготовим данные, которые хотим показать при визуализации\n",
    "metrics_by_country['info'] = (\n",
    "    metrics_by_country['country'] + '<br>' +\n",
    "    'Кол-во вин: ' + metrics_by_country['count'].astype(str) + '<br>' +\n",
    "    'Самое дешёвое вино: ' + metrics_by_country['min'].astype(int).astype(str) + '<br>' +\n",
    "    'Самое дорогое вино: ' + metrics_by_country['MAX'].astype(str) + '<br>' +\n",
    "    'Самый популярный цвет вина: ' + metrics_by_country['fav_color'].astype(str) + '<br>' +\n",
    "    'Самый популярный сорт винограда: ' + metrics_by_country['grape'].astype(str) + '<br>' +\n",
    "    'Самый популярный производитель: ' + metrics_by_country['popular_manufacturer'].astype(str)\n",
    ")"
   ]
  },
  {
   "cell_type": "code",
   "execution_count": 35,
   "id": "68d8f2cc",
   "metadata": {
    "scrolled": false
   },
   "outputs": [
    {
     "data": {
      "application/vnd.plotly.v1+json": {
       "config": {
        "plotlyServerURL": "https://plot.ly"
       },
       "data": [
        {
         "autocolorscale": false,
         "colorscale": [
          [
           0,
           "rgb(255,245,240)"
          ],
          [
           0.125,
           "rgb(254,224,210)"
          ],
          [
           0.25,
           "rgb(252,187,161)"
          ],
          [
           0.375,
           "rgb(252,146,114)"
          ],
          [
           0.5,
           "rgb(251,106,74)"
          ],
          [
           0.625,
           "rgb(239,59,44)"
          ],
          [
           0.75,
           "rgb(203,24,29)"
          ],
          [
           0.875,
           "rgb(165,15,21)"
          ],
          [
           1,
           "rgb(103,0,13)"
          ]
         ],
         "locations": [
          "AUS",
          "AUT",
          "ARG",
          "ARM",
          "HUN",
          "DEU",
          "GRC",
          "GEO",
          "ISR",
          "ESP",
          "ITA",
          "NZL",
          "PRT",
          "MDA",
          "RUS",
          "SRB",
          "SVN",
          "USA",
          "FRA",
          "CHL",
          "ZAF"
         ],
         "marker": {
          "line": {
           "color": "black",
           "width": 0.7
          }
         },
         "reversescale": false,
         "text": [
          "Австралия<br>Кол-во вин: 86<br>Самое дешёвое вино: 840<br>Самое дорогое вино: 174990<br>Самый популярный цвет вина: красное<br>Самый популярный сорт винограда: мерло<br>Самый популярный производитель: Penfolds",
          "Австрия<br>Кол-во вин: 88<br>Самое дешёвое вино: 1490<br>Самое дорогое вино: 12990<br>Самый популярный цвет вина: белое<br>Самый популярный сорт винограда: турига насьональ<br>Самый популярный производитель: Nigl",
          "Аргентина<br>Кол-во вин: 55<br>Самое дешёвое вино: 890<br>Самое дорогое вино: 18490<br>Самый популярный цвет вина: красное<br>Самый популярный сорт винограда: каберне совиньон<br>Самый популярный производитель: Luigi Bosca",
          "Армения<br>Кол-во вин: 14<br>Самое дешёвое вино: 1490<br>Самое дорогое вино: 3490<br>Самый популярный цвет вина: белое<br>Самый популярный сорт винограда: темпранильо<br>Самый популярный производитель: NOA",
          "Венгрия<br>Кол-во вин: 14<br>Самое дешёвое вино: 5990<br>Самое дорогое вино: 104990<br>Самый популярный цвет вина: белое<br>Самый популярный сорт винограда: санджовезе<br>Самый популярный производитель: Oremus",
          "Германия<br>Кол-во вин: 119<br>Самое дешёвое вино: 1190<br>Самое дорогое вино: 14990<br>Самый популярный цвет вина: белое<br>Самый популярный сорт винограда: рислинг<br>Самый популярный производитель: Nik Weis St. Urbans-Hof",
          "Греция<br>Кол-во вин: 8<br>Самое дешёвое вино: 4390<br>Самое дорогое вино: 7490<br>Самый популярный цвет вина: красное<br>Самый популярный сорт винограда: шардоне<br>Самый популярный производитель: Ktima Biblia Chora",
          "Грузия<br>Кол-во вин: 50<br>Самое дешёвое вино: 490<br>Самое дорогое вино: 4990<br>Самый популярный цвет вина: красное<br>Самый популярный сорт винограда: шенен блан<br>Самый популярный производитель: Besini",
          "Израиль<br>Кол-во вин: 1<br>Самое дешёвое вино: 17230<br>Самое дорогое вино: 17230<br>Самый популярный цвет вина: красное<br>Самый популярный сорт винограда: грюнер вельтлинер<br>Самый популярный производитель: Yatir Winery",
          "Испания<br>Кол-во вин: 266<br>Самое дешёвое вино: 850<br>Самое дорогое вино: 317390<br>Самый популярный цвет вина: красное<br>Самый популярный сорт винограда: саперави<br>Самый популярный производитель: Marques de Riscal",
          "Италия<br>Кол-во вин: 1142<br>Самое дешёвое вино: 340<br>Самое дорогое вино: 1849990<br>Самый популярный цвет вина: красное<br>Самый популярный сорт винограда: каберне совиньон<br>Самый популярный производитель: Frescobaldi",
          "Новая Зеландия<br>Кол-во вин: 56<br>Самое дешёвое вино: 1640<br>Самое дорогое вино: 44990<br>Самый популярный цвет вина: красное<br>Самый популярный сорт винограда: шираз<br>Самый популярный производитель: Felton Road",
          "Португалия<br>Кол-во вин: 12<br>Самое дешёвое вино: 890<br>Самое дорогое вино: 13510<br>Самый популярный цвет вина: красное<br>Самый популярный сорт винограда: каберне совиньон<br>Самый популярный производитель: Prats & Symington",
          "Республика Молдова<br>Кол-во вин: 8<br>Самое дешёвое вино: 590<br>Самое дорогое вино: 590<br>Самый популярный цвет вина: красное<br>Самый популярный сорт винограда: каберне совиньон<br>Самый популярный производитель: Bostavan",
          "Россия<br>Кол-во вин: 102<br>Самое дешёвое вино: 560<br>Самое дорогое вино: 8490<br>Самый популярный цвет вина: белое<br>Самый популярный сорт винограда: пино нуар<br>Самый популярный производитель: Сикоры",
          "Сербия<br>Кол-во вин: 1<br>Самое дешёвое вино: 5090<br>Самое дорогое вино: 5090<br>Самый популярный цвет вина: белое<br>Самый популярный сорт винограда: шардоне<br>Самый популярный производитель: Vinarija Aleksandrovic",
          "Словения<br>Кол-во вин: 1<br>Самое дешёвое вино: 4490<br>Самое дорогое вино: 4490<br>Самый популярный цвет вина: белое<br>Самый популярный сорт винограда: мерло<br>Самый популярный производитель: Vino Gross",
          "Соединенные Штаты Америки<br>Кол-во вин: 86<br>Самое дешёвое вино: 1490<br>Самое дорогое вино: 303590<br>Самый популярный цвет вина: красное<br>Самый популярный сорт винограда: фурминт<br>Самый популярный производитель: Dominus Estate",
          "Франция<br>Кол-во вин: 1761<br>Самое дешёвое вино: 940<br>Самое дорогое вино: 1207490<br>Самый популярный цвет вина: красное<br>Самый популярный сорт винограда: каберне совиньон<br>Самый популярный производитель: Joseph Drouhin",
          "Чили<br>Кол-во вин: 100<br>Самое дешёвое вино: 840<br>Самое дорогое вино: 174990<br>Самый популярный цвет вина: красное<br>Самый популярный сорт винограда: арени<br>Самый популярный производитель: Santa Carolina",
          "Южная Африка<br>Кол-во вин: 84<br>Самое дешёвое вино: 760<br>Самое дорогое вино: 19990<br>Самый популярный цвет вина: белое<br>Самый популярный сорт винограда: фурминт<br>Самый популярный производитель: Fairview"
         ],
         "type": "choropleth",
         "z": [
          8331,
          4047,
          3262,
          2519,
          12976,
          5437,
          5352,
          1826,
          17230,
          8481,
          11110,
          8716,
          5110,
          590,
          2495,
          5090,
          4490,
          22572,
          17908,
          7684,
          3950
         ]
        }
       ],
       "layout": {
        "annotations": [
         {
          "showarrow": false,
          "text": "Data Тоскана",
          "x": 0.55,
          "xref": "paper",
          "y": 0.1,
          "yref": "paper"
         }
        ],
        "geo": {
         "projection": {
          "type": "equirectangular"
         },
         "showcoastlines": false,
         "showframe": false
        },
        "template": {
         "data": {
          "bar": [
           {
            "error_x": {
             "color": "#2a3f5f"
            },
            "error_y": {
             "color": "#2a3f5f"
            },
            "marker": {
             "line": {
              "color": "#E5ECF6",
              "width": 0.5
             },
             "pattern": {
              "fillmode": "overlay",
              "size": 10,
              "solidity": 0.2
             }
            },
            "type": "bar"
           }
          ],
          "barpolar": [
           {
            "marker": {
             "line": {
              "color": "#E5ECF6",
              "width": 0.5
             },
             "pattern": {
              "fillmode": "overlay",
              "size": 10,
              "solidity": 0.2
             }
            },
            "type": "barpolar"
           }
          ],
          "carpet": [
           {
            "aaxis": {
             "endlinecolor": "#2a3f5f",
             "gridcolor": "white",
             "linecolor": "white",
             "minorgridcolor": "white",
             "startlinecolor": "#2a3f5f"
            },
            "baxis": {
             "endlinecolor": "#2a3f5f",
             "gridcolor": "white",
             "linecolor": "white",
             "minorgridcolor": "white",
             "startlinecolor": "#2a3f5f"
            },
            "type": "carpet"
           }
          ],
          "choropleth": [
           {
            "colorbar": {
             "outlinewidth": 0,
             "ticks": ""
            },
            "type": "choropleth"
           }
          ],
          "contour": [
           {
            "colorbar": {
             "outlinewidth": 0,
             "ticks": ""
            },
            "colorscale": [
             [
              0,
              "#0d0887"
             ],
             [
              0.1111111111111111,
              "#46039f"
             ],
             [
              0.2222222222222222,
              "#7201a8"
             ],
             [
              0.3333333333333333,
              "#9c179e"
             ],
             [
              0.4444444444444444,
              "#bd3786"
             ],
             [
              0.5555555555555556,
              "#d8576b"
             ],
             [
              0.6666666666666666,
              "#ed7953"
             ],
             [
              0.7777777777777778,
              "#fb9f3a"
             ],
             [
              0.8888888888888888,
              "#fdca26"
             ],
             [
              1,
              "#f0f921"
             ]
            ],
            "type": "contour"
           }
          ],
          "contourcarpet": [
           {
            "colorbar": {
             "outlinewidth": 0,
             "ticks": ""
            },
            "type": "contourcarpet"
           }
          ],
          "heatmap": [
           {
            "colorbar": {
             "outlinewidth": 0,
             "ticks": ""
            },
            "colorscale": [
             [
              0,
              "#0d0887"
             ],
             [
              0.1111111111111111,
              "#46039f"
             ],
             [
              0.2222222222222222,
              "#7201a8"
             ],
             [
              0.3333333333333333,
              "#9c179e"
             ],
             [
              0.4444444444444444,
              "#bd3786"
             ],
             [
              0.5555555555555556,
              "#d8576b"
             ],
             [
              0.6666666666666666,
              "#ed7953"
             ],
             [
              0.7777777777777778,
              "#fb9f3a"
             ],
             [
              0.8888888888888888,
              "#fdca26"
             ],
             [
              1,
              "#f0f921"
             ]
            ],
            "type": "heatmap"
           }
          ],
          "heatmapgl": [
           {
            "colorbar": {
             "outlinewidth": 0,
             "ticks": ""
            },
            "colorscale": [
             [
              0,
              "#0d0887"
             ],
             [
              0.1111111111111111,
              "#46039f"
             ],
             [
              0.2222222222222222,
              "#7201a8"
             ],
             [
              0.3333333333333333,
              "#9c179e"
             ],
             [
              0.4444444444444444,
              "#bd3786"
             ],
             [
              0.5555555555555556,
              "#d8576b"
             ],
             [
              0.6666666666666666,
              "#ed7953"
             ],
             [
              0.7777777777777778,
              "#fb9f3a"
             ],
             [
              0.8888888888888888,
              "#fdca26"
             ],
             [
              1,
              "#f0f921"
             ]
            ],
            "type": "heatmapgl"
           }
          ],
          "histogram": [
           {
            "marker": {
             "pattern": {
              "fillmode": "overlay",
              "size": 10,
              "solidity": 0.2
             }
            },
            "type": "histogram"
           }
          ],
          "histogram2d": [
           {
            "colorbar": {
             "outlinewidth": 0,
             "ticks": ""
            },
            "colorscale": [
             [
              0,
              "#0d0887"
             ],
             [
              0.1111111111111111,
              "#46039f"
             ],
             [
              0.2222222222222222,
              "#7201a8"
             ],
             [
              0.3333333333333333,
              "#9c179e"
             ],
             [
              0.4444444444444444,
              "#bd3786"
             ],
             [
              0.5555555555555556,
              "#d8576b"
             ],
             [
              0.6666666666666666,
              "#ed7953"
             ],
             [
              0.7777777777777778,
              "#fb9f3a"
             ],
             [
              0.8888888888888888,
              "#fdca26"
             ],
             [
              1,
              "#f0f921"
             ]
            ],
            "type": "histogram2d"
           }
          ],
          "histogram2dcontour": [
           {
            "colorbar": {
             "outlinewidth": 0,
             "ticks": ""
            },
            "colorscale": [
             [
              0,
              "#0d0887"
             ],
             [
              0.1111111111111111,
              "#46039f"
             ],
             [
              0.2222222222222222,
              "#7201a8"
             ],
             [
              0.3333333333333333,
              "#9c179e"
             ],
             [
              0.4444444444444444,
              "#bd3786"
             ],
             [
              0.5555555555555556,
              "#d8576b"
             ],
             [
              0.6666666666666666,
              "#ed7953"
             ],
             [
              0.7777777777777778,
              "#fb9f3a"
             ],
             [
              0.8888888888888888,
              "#fdca26"
             ],
             [
              1,
              "#f0f921"
             ]
            ],
            "type": "histogram2dcontour"
           }
          ],
          "mesh3d": [
           {
            "colorbar": {
             "outlinewidth": 0,
             "ticks": ""
            },
            "type": "mesh3d"
           }
          ],
          "parcoords": [
           {
            "line": {
             "colorbar": {
              "outlinewidth": 0,
              "ticks": ""
             }
            },
            "type": "parcoords"
           }
          ],
          "pie": [
           {
            "automargin": true,
            "type": "pie"
           }
          ],
          "scatter": [
           {
            "fillpattern": {
             "fillmode": "overlay",
             "size": 10,
             "solidity": 0.2
            },
            "type": "scatter"
           }
          ],
          "scatter3d": [
           {
            "line": {
             "colorbar": {
              "outlinewidth": 0,
              "ticks": ""
             }
            },
            "marker": {
             "colorbar": {
              "outlinewidth": 0,
              "ticks": ""
             }
            },
            "type": "scatter3d"
           }
          ],
          "scattercarpet": [
           {
            "marker": {
             "colorbar": {
              "outlinewidth": 0,
              "ticks": ""
             }
            },
            "type": "scattercarpet"
           }
          ],
          "scattergeo": [
           {
            "marker": {
             "colorbar": {
              "outlinewidth": 0,
              "ticks": ""
             }
            },
            "type": "scattergeo"
           }
          ],
          "scattergl": [
           {
            "marker": {
             "colorbar": {
              "outlinewidth": 0,
              "ticks": ""
             }
            },
            "type": "scattergl"
           }
          ],
          "scattermapbox": [
           {
            "marker": {
             "colorbar": {
              "outlinewidth": 0,
              "ticks": ""
             }
            },
            "type": "scattermapbox"
           }
          ],
          "scatterpolar": [
           {
            "marker": {
             "colorbar": {
              "outlinewidth": 0,
              "ticks": ""
             }
            },
            "type": "scatterpolar"
           }
          ],
          "scatterpolargl": [
           {
            "marker": {
             "colorbar": {
              "outlinewidth": 0,
              "ticks": ""
             }
            },
            "type": "scatterpolargl"
           }
          ],
          "scatterternary": [
           {
            "marker": {
             "colorbar": {
              "outlinewidth": 0,
              "ticks": ""
             }
            },
            "type": "scatterternary"
           }
          ],
          "surface": [
           {
            "colorbar": {
             "outlinewidth": 0,
             "ticks": ""
            },
            "colorscale": [
             [
              0,
              "#0d0887"
             ],
             [
              0.1111111111111111,
              "#46039f"
             ],
             [
              0.2222222222222222,
              "#7201a8"
             ],
             [
              0.3333333333333333,
              "#9c179e"
             ],
             [
              0.4444444444444444,
              "#bd3786"
             ],
             [
              0.5555555555555556,
              "#d8576b"
             ],
             [
              0.6666666666666666,
              "#ed7953"
             ],
             [
              0.7777777777777778,
              "#fb9f3a"
             ],
             [
              0.8888888888888888,
              "#fdca26"
             ],
             [
              1,
              "#f0f921"
             ]
            ],
            "type": "surface"
           }
          ],
          "table": [
           {
            "cells": {
             "fill": {
              "color": "#EBF0F8"
             },
             "line": {
              "color": "white"
             }
            },
            "header": {
             "fill": {
              "color": "#C8D4E3"
             },
             "line": {
              "color": "white"
             }
            },
            "type": "table"
           }
          ]
         },
         "layout": {
          "annotationdefaults": {
           "arrowcolor": "#2a3f5f",
           "arrowhead": 0,
           "arrowwidth": 1
          },
          "autotypenumbers": "strict",
          "coloraxis": {
           "colorbar": {
            "outlinewidth": 0,
            "ticks": ""
           }
          },
          "colorscale": {
           "diverging": [
            [
             0,
             "#8e0152"
            ],
            [
             0.1,
             "#c51b7d"
            ],
            [
             0.2,
             "#de77ae"
            ],
            [
             0.3,
             "#f1b6da"
            ],
            [
             0.4,
             "#fde0ef"
            ],
            [
             0.5,
             "#f7f7f7"
            ],
            [
             0.6,
             "#e6f5d0"
            ],
            [
             0.7,
             "#b8e186"
            ],
            [
             0.8,
             "#7fbc41"
            ],
            [
             0.9,
             "#4d9221"
            ],
            [
             1,
             "#276419"
            ]
           ],
           "sequential": [
            [
             0,
             "#0d0887"
            ],
            [
             0.1111111111111111,
             "#46039f"
            ],
            [
             0.2222222222222222,
             "#7201a8"
            ],
            [
             0.3333333333333333,
             "#9c179e"
            ],
            [
             0.4444444444444444,
             "#bd3786"
            ],
            [
             0.5555555555555556,
             "#d8576b"
            ],
            [
             0.6666666666666666,
             "#ed7953"
            ],
            [
             0.7777777777777778,
             "#fb9f3a"
            ],
            [
             0.8888888888888888,
             "#fdca26"
            ],
            [
             1,
             "#f0f921"
            ]
           ],
           "sequentialminus": [
            [
             0,
             "#0d0887"
            ],
            [
             0.1111111111111111,
             "#46039f"
            ],
            [
             0.2222222222222222,
             "#7201a8"
            ],
            [
             0.3333333333333333,
             "#9c179e"
            ],
            [
             0.4444444444444444,
             "#bd3786"
            ],
            [
             0.5555555555555556,
             "#d8576b"
            ],
            [
             0.6666666666666666,
             "#ed7953"
            ],
            [
             0.7777777777777778,
             "#fb9f3a"
            ],
            [
             0.8888888888888888,
             "#fdca26"
            ],
            [
             1,
             "#f0f921"
            ]
           ]
          },
          "colorway": [
           "#636efa",
           "#EF553B",
           "#00cc96",
           "#ab63fa",
           "#FFA15A",
           "#19d3f3",
           "#FF6692",
           "#B6E880",
           "#FF97FF",
           "#FECB52"
          ],
          "font": {
           "color": "#2a3f5f"
          },
          "geo": {
           "bgcolor": "white",
           "lakecolor": "white",
           "landcolor": "#E5ECF6",
           "showlakes": true,
           "showland": true,
           "subunitcolor": "white"
          },
          "hoverlabel": {
           "align": "left"
          },
          "hovermode": "closest",
          "mapbox": {
           "style": "light"
          },
          "paper_bgcolor": "white",
          "plot_bgcolor": "#E5ECF6",
          "polar": {
           "angularaxis": {
            "gridcolor": "white",
            "linecolor": "white",
            "ticks": ""
           },
           "bgcolor": "#E5ECF6",
           "radialaxis": {
            "gridcolor": "white",
            "linecolor": "white",
            "ticks": ""
           }
          },
          "scene": {
           "xaxis": {
            "backgroundcolor": "#E5ECF6",
            "gridcolor": "white",
            "gridwidth": 2,
            "linecolor": "white",
            "showbackground": true,
            "ticks": "",
            "zerolinecolor": "white"
           },
           "yaxis": {
            "backgroundcolor": "#E5ECF6",
            "gridcolor": "white",
            "gridwidth": 2,
            "linecolor": "white",
            "showbackground": true,
            "ticks": "",
            "zerolinecolor": "white"
           },
           "zaxis": {
            "backgroundcolor": "#E5ECF6",
            "gridcolor": "white",
            "gridwidth": 2,
            "linecolor": "white",
            "showbackground": true,
            "ticks": "",
            "zerolinecolor": "white"
           }
          },
          "shapedefaults": {
           "line": {
            "color": "#2a3f5f"
           }
          },
          "ternary": {
           "aaxis": {
            "gridcolor": "white",
            "linecolor": "white",
            "ticks": ""
           },
           "baxis": {
            "gridcolor": "white",
            "linecolor": "white",
            "ticks": ""
           },
           "bgcolor": "#E5ECF6",
           "caxis": {
            "gridcolor": "white",
            "linecolor": "white",
            "ticks": ""
           }
          },
          "title": {
           "x": 0.05
          },
          "xaxis": {
           "automargin": true,
           "gridcolor": "white",
           "linecolor": "white",
           "ticks": "",
           "title": {
            "standoff": 15
           },
           "zerolinecolor": "white",
           "zerolinewidth": 2
          },
          "yaxis": {
           "automargin": true,
           "gridcolor": "white",
           "linecolor": "white",
           "ticks": "",
           "title": {
            "standoff": 15
           },
           "zerolinecolor": "white",
           "zerolinewidth": 2
          }
         }
        },
        "title": {
         "text": "Средняя стоимость бутылки вина"
        }
       }
      },
      "text/html": [
       "<div>                            <div id=\"fa406f1c-2c69-4323-899d-37b31a2ea5d4\" class=\"plotly-graph-div\" style=\"height:525px; width:100%;\"></div>            <script type=\"text/javascript\">                require([\"plotly\"], function(Plotly) {                    window.PLOTLYENV=window.PLOTLYENV || {};                                    if (document.getElementById(\"fa406f1c-2c69-4323-899d-37b31a2ea5d4\")) {                    Plotly.newPlot(                        \"fa406f1c-2c69-4323-899d-37b31a2ea5d4\",                        [{\"autocolorscale\":false,\"colorscale\":[[0.0,\"rgb(255,245,240)\"],[0.125,\"rgb(254,224,210)\"],[0.25,\"rgb(252,187,161)\"],[0.375,\"rgb(252,146,114)\"],[0.5,\"rgb(251,106,74)\"],[0.625,\"rgb(239,59,44)\"],[0.75,\"rgb(203,24,29)\"],[0.875,\"rgb(165,15,21)\"],[1.0,\"rgb(103,0,13)\"]],\"locations\":[\"AUS\",\"AUT\",\"ARG\",\"ARM\",\"HUN\",\"DEU\",\"GRC\",\"GEO\",\"ISR\",\"ESP\",\"ITA\",\"NZL\",\"PRT\",\"MDA\",\"RUS\",\"SRB\",\"SVN\",\"USA\",\"FRA\",\"CHL\",\"ZAF\"],\"marker\":{\"line\":{\"color\":\"black\",\"width\":0.7}},\"reversescale\":false,\"text\":[\"\\u0410\\u0432\\u0441\\u0442\\u0440\\u0430\\u043b\\u0438\\u044f<br>\\u041a\\u043e\\u043b-\\u0432\\u043e \\u0432\\u0438\\u043d: 86<br>\\u0421\\u0430\\u043c\\u043e\\u0435 \\u0434\\u0435\\u0448\\u0451\\u0432\\u043e\\u0435 \\u0432\\u0438\\u043d\\u043e: 840<br>\\u0421\\u0430\\u043c\\u043e\\u0435 \\u0434\\u043e\\u0440\\u043e\\u0433\\u043e\\u0435 \\u0432\\u0438\\u043d\\u043e: 174990<br>\\u0421\\u0430\\u043c\\u044b\\u0439 \\u043f\\u043e\\u043f\\u0443\\u043b\\u044f\\u0440\\u043d\\u044b\\u0439 \\u0446\\u0432\\u0435\\u0442 \\u0432\\u0438\\u043d\\u0430: \\u043a\\u0440\\u0430\\u0441\\u043d\\u043e\\u0435<br>\\u0421\\u0430\\u043c\\u044b\\u0439 \\u043f\\u043e\\u043f\\u0443\\u043b\\u044f\\u0440\\u043d\\u044b\\u0439 \\u0441\\u043e\\u0440\\u0442 \\u0432\\u0438\\u043d\\u043e\\u0433\\u0440\\u0430\\u0434\\u0430: \\u043c\\u0435\\u0440\\u043b\\u043e<br>\\u0421\\u0430\\u043c\\u044b\\u0439 \\u043f\\u043e\\u043f\\u0443\\u043b\\u044f\\u0440\\u043d\\u044b\\u0439 \\u043f\\u0440\\u043e\\u0438\\u0437\\u0432\\u043e\\u0434\\u0438\\u0442\\u0435\\u043b\\u044c: Penfolds\",\"\\u0410\\u0432\\u0441\\u0442\\u0440\\u0438\\u044f<br>\\u041a\\u043e\\u043b-\\u0432\\u043e \\u0432\\u0438\\u043d: 88<br>\\u0421\\u0430\\u043c\\u043e\\u0435 \\u0434\\u0435\\u0448\\u0451\\u0432\\u043e\\u0435 \\u0432\\u0438\\u043d\\u043e: 1490<br>\\u0421\\u0430\\u043c\\u043e\\u0435 \\u0434\\u043e\\u0440\\u043e\\u0433\\u043e\\u0435 \\u0432\\u0438\\u043d\\u043e: 12990<br>\\u0421\\u0430\\u043c\\u044b\\u0439 \\u043f\\u043e\\u043f\\u0443\\u043b\\u044f\\u0440\\u043d\\u044b\\u0439 \\u0446\\u0432\\u0435\\u0442 \\u0432\\u0438\\u043d\\u0430: \\u0431\\u0435\\u043b\\u043e\\u0435<br>\\u0421\\u0430\\u043c\\u044b\\u0439 \\u043f\\u043e\\u043f\\u0443\\u043b\\u044f\\u0440\\u043d\\u044b\\u0439 \\u0441\\u043e\\u0440\\u0442 \\u0432\\u0438\\u043d\\u043e\\u0433\\u0440\\u0430\\u0434\\u0430: \\u0442\\u0443\\u0440\\u0438\\u0433\\u0430 \\u043d\\u0430\\u0441\\u044c\\u043e\\u043d\\u0430\\u043b\\u044c<br>\\u0421\\u0430\\u043c\\u044b\\u0439 \\u043f\\u043e\\u043f\\u0443\\u043b\\u044f\\u0440\\u043d\\u044b\\u0439 \\u043f\\u0440\\u043e\\u0438\\u0437\\u0432\\u043e\\u0434\\u0438\\u0442\\u0435\\u043b\\u044c: Nigl\",\"\\u0410\\u0440\\u0433\\u0435\\u043d\\u0442\\u0438\\u043d\\u0430<br>\\u041a\\u043e\\u043b-\\u0432\\u043e \\u0432\\u0438\\u043d: 55<br>\\u0421\\u0430\\u043c\\u043e\\u0435 \\u0434\\u0435\\u0448\\u0451\\u0432\\u043e\\u0435 \\u0432\\u0438\\u043d\\u043e: 890<br>\\u0421\\u0430\\u043c\\u043e\\u0435 \\u0434\\u043e\\u0440\\u043e\\u0433\\u043e\\u0435 \\u0432\\u0438\\u043d\\u043e: 18490<br>\\u0421\\u0430\\u043c\\u044b\\u0439 \\u043f\\u043e\\u043f\\u0443\\u043b\\u044f\\u0440\\u043d\\u044b\\u0439 \\u0446\\u0432\\u0435\\u0442 \\u0432\\u0438\\u043d\\u0430: \\u043a\\u0440\\u0430\\u0441\\u043d\\u043e\\u0435<br>\\u0421\\u0430\\u043c\\u044b\\u0439 \\u043f\\u043e\\u043f\\u0443\\u043b\\u044f\\u0440\\u043d\\u044b\\u0439 \\u0441\\u043e\\u0440\\u0442 \\u0432\\u0438\\u043d\\u043e\\u0433\\u0440\\u0430\\u0434\\u0430: \\u043a\\u0430\\u0431\\u0435\\u0440\\u043d\\u0435 \\u0441\\u043e\\u0432\\u0438\\u043d\\u044c\\u043e\\u043d<br>\\u0421\\u0430\\u043c\\u044b\\u0439 \\u043f\\u043e\\u043f\\u0443\\u043b\\u044f\\u0440\\u043d\\u044b\\u0439 \\u043f\\u0440\\u043e\\u0438\\u0437\\u0432\\u043e\\u0434\\u0438\\u0442\\u0435\\u043b\\u044c: Luigi Bosca\",\"\\u0410\\u0440\\u043c\\u0435\\u043d\\u0438\\u044f<br>\\u041a\\u043e\\u043b-\\u0432\\u043e \\u0432\\u0438\\u043d: 14<br>\\u0421\\u0430\\u043c\\u043e\\u0435 \\u0434\\u0435\\u0448\\u0451\\u0432\\u043e\\u0435 \\u0432\\u0438\\u043d\\u043e: 1490<br>\\u0421\\u0430\\u043c\\u043e\\u0435 \\u0434\\u043e\\u0440\\u043e\\u0433\\u043e\\u0435 \\u0432\\u0438\\u043d\\u043e: 3490<br>\\u0421\\u0430\\u043c\\u044b\\u0439 \\u043f\\u043e\\u043f\\u0443\\u043b\\u044f\\u0440\\u043d\\u044b\\u0439 \\u0446\\u0432\\u0435\\u0442 \\u0432\\u0438\\u043d\\u0430: \\u0431\\u0435\\u043b\\u043e\\u0435<br>\\u0421\\u0430\\u043c\\u044b\\u0439 \\u043f\\u043e\\u043f\\u0443\\u043b\\u044f\\u0440\\u043d\\u044b\\u0439 \\u0441\\u043e\\u0440\\u0442 \\u0432\\u0438\\u043d\\u043e\\u0433\\u0440\\u0430\\u0434\\u0430: \\u0442\\u0435\\u043c\\u043f\\u0440\\u0430\\u043d\\u0438\\u043b\\u044c\\u043e<br>\\u0421\\u0430\\u043c\\u044b\\u0439 \\u043f\\u043e\\u043f\\u0443\\u043b\\u044f\\u0440\\u043d\\u044b\\u0439 \\u043f\\u0440\\u043e\\u0438\\u0437\\u0432\\u043e\\u0434\\u0438\\u0442\\u0435\\u043b\\u044c: NOA\",\"\\u0412\\u0435\\u043d\\u0433\\u0440\\u0438\\u044f<br>\\u041a\\u043e\\u043b-\\u0432\\u043e \\u0432\\u0438\\u043d: 14<br>\\u0421\\u0430\\u043c\\u043e\\u0435 \\u0434\\u0435\\u0448\\u0451\\u0432\\u043e\\u0435 \\u0432\\u0438\\u043d\\u043e: 5990<br>\\u0421\\u0430\\u043c\\u043e\\u0435 \\u0434\\u043e\\u0440\\u043e\\u0433\\u043e\\u0435 \\u0432\\u0438\\u043d\\u043e: 104990<br>\\u0421\\u0430\\u043c\\u044b\\u0439 \\u043f\\u043e\\u043f\\u0443\\u043b\\u044f\\u0440\\u043d\\u044b\\u0439 \\u0446\\u0432\\u0435\\u0442 \\u0432\\u0438\\u043d\\u0430: \\u0431\\u0435\\u043b\\u043e\\u0435<br>\\u0421\\u0430\\u043c\\u044b\\u0439 \\u043f\\u043e\\u043f\\u0443\\u043b\\u044f\\u0440\\u043d\\u044b\\u0439 \\u0441\\u043e\\u0440\\u0442 \\u0432\\u0438\\u043d\\u043e\\u0433\\u0440\\u0430\\u0434\\u0430: \\u0441\\u0430\\u043d\\u0434\\u0436\\u043e\\u0432\\u0435\\u0437\\u0435<br>\\u0421\\u0430\\u043c\\u044b\\u0439 \\u043f\\u043e\\u043f\\u0443\\u043b\\u044f\\u0440\\u043d\\u044b\\u0439 \\u043f\\u0440\\u043e\\u0438\\u0437\\u0432\\u043e\\u0434\\u0438\\u0442\\u0435\\u043b\\u044c: Oremus\",\"\\u0413\\u0435\\u0440\\u043c\\u0430\\u043d\\u0438\\u044f<br>\\u041a\\u043e\\u043b-\\u0432\\u043e \\u0432\\u0438\\u043d: 119<br>\\u0421\\u0430\\u043c\\u043e\\u0435 \\u0434\\u0435\\u0448\\u0451\\u0432\\u043e\\u0435 \\u0432\\u0438\\u043d\\u043e: 1190<br>\\u0421\\u0430\\u043c\\u043e\\u0435 \\u0434\\u043e\\u0440\\u043e\\u0433\\u043e\\u0435 \\u0432\\u0438\\u043d\\u043e: 14990<br>\\u0421\\u0430\\u043c\\u044b\\u0439 \\u043f\\u043e\\u043f\\u0443\\u043b\\u044f\\u0440\\u043d\\u044b\\u0439 \\u0446\\u0432\\u0435\\u0442 \\u0432\\u0438\\u043d\\u0430: \\u0431\\u0435\\u043b\\u043e\\u0435<br>\\u0421\\u0430\\u043c\\u044b\\u0439 \\u043f\\u043e\\u043f\\u0443\\u043b\\u044f\\u0440\\u043d\\u044b\\u0439 \\u0441\\u043e\\u0440\\u0442 \\u0432\\u0438\\u043d\\u043e\\u0433\\u0440\\u0430\\u0434\\u0430: \\u0440\\u0438\\u0441\\u043b\\u0438\\u043d\\u0433<br>\\u0421\\u0430\\u043c\\u044b\\u0439 \\u043f\\u043e\\u043f\\u0443\\u043b\\u044f\\u0440\\u043d\\u044b\\u0439 \\u043f\\u0440\\u043e\\u0438\\u0437\\u0432\\u043e\\u0434\\u0438\\u0442\\u0435\\u043b\\u044c: Nik Weis St. Urbans-Hof\",\"\\u0413\\u0440\\u0435\\u0446\\u0438\\u044f<br>\\u041a\\u043e\\u043b-\\u0432\\u043e \\u0432\\u0438\\u043d: 8<br>\\u0421\\u0430\\u043c\\u043e\\u0435 \\u0434\\u0435\\u0448\\u0451\\u0432\\u043e\\u0435 \\u0432\\u0438\\u043d\\u043e: 4390<br>\\u0421\\u0430\\u043c\\u043e\\u0435 \\u0434\\u043e\\u0440\\u043e\\u0433\\u043e\\u0435 \\u0432\\u0438\\u043d\\u043e: 7490<br>\\u0421\\u0430\\u043c\\u044b\\u0439 \\u043f\\u043e\\u043f\\u0443\\u043b\\u044f\\u0440\\u043d\\u044b\\u0439 \\u0446\\u0432\\u0435\\u0442 \\u0432\\u0438\\u043d\\u0430: \\u043a\\u0440\\u0430\\u0441\\u043d\\u043e\\u0435<br>\\u0421\\u0430\\u043c\\u044b\\u0439 \\u043f\\u043e\\u043f\\u0443\\u043b\\u044f\\u0440\\u043d\\u044b\\u0439 \\u0441\\u043e\\u0440\\u0442 \\u0432\\u0438\\u043d\\u043e\\u0433\\u0440\\u0430\\u0434\\u0430: \\u0448\\u0430\\u0440\\u0434\\u043e\\u043d\\u0435<br>\\u0421\\u0430\\u043c\\u044b\\u0439 \\u043f\\u043e\\u043f\\u0443\\u043b\\u044f\\u0440\\u043d\\u044b\\u0439 \\u043f\\u0440\\u043e\\u0438\\u0437\\u0432\\u043e\\u0434\\u0438\\u0442\\u0435\\u043b\\u044c: Ktima Biblia Chora\",\"\\u0413\\u0440\\u0443\\u0437\\u0438\\u044f<br>\\u041a\\u043e\\u043b-\\u0432\\u043e \\u0432\\u0438\\u043d: 50<br>\\u0421\\u0430\\u043c\\u043e\\u0435 \\u0434\\u0435\\u0448\\u0451\\u0432\\u043e\\u0435 \\u0432\\u0438\\u043d\\u043e: 490<br>\\u0421\\u0430\\u043c\\u043e\\u0435 \\u0434\\u043e\\u0440\\u043e\\u0433\\u043e\\u0435 \\u0432\\u0438\\u043d\\u043e: 4990<br>\\u0421\\u0430\\u043c\\u044b\\u0439 \\u043f\\u043e\\u043f\\u0443\\u043b\\u044f\\u0440\\u043d\\u044b\\u0439 \\u0446\\u0432\\u0435\\u0442 \\u0432\\u0438\\u043d\\u0430: \\u043a\\u0440\\u0430\\u0441\\u043d\\u043e\\u0435<br>\\u0421\\u0430\\u043c\\u044b\\u0439 \\u043f\\u043e\\u043f\\u0443\\u043b\\u044f\\u0440\\u043d\\u044b\\u0439 \\u0441\\u043e\\u0440\\u0442 \\u0432\\u0438\\u043d\\u043e\\u0433\\u0440\\u0430\\u0434\\u0430: \\u0448\\u0435\\u043d\\u0435\\u043d \\u0431\\u043b\\u0430\\u043d<br>\\u0421\\u0430\\u043c\\u044b\\u0439 \\u043f\\u043e\\u043f\\u0443\\u043b\\u044f\\u0440\\u043d\\u044b\\u0439 \\u043f\\u0440\\u043e\\u0438\\u0437\\u0432\\u043e\\u0434\\u0438\\u0442\\u0435\\u043b\\u044c: Besini\",\"\\u0418\\u0437\\u0440\\u0430\\u0438\\u043b\\u044c<br>\\u041a\\u043e\\u043b-\\u0432\\u043e \\u0432\\u0438\\u043d: 1<br>\\u0421\\u0430\\u043c\\u043e\\u0435 \\u0434\\u0435\\u0448\\u0451\\u0432\\u043e\\u0435 \\u0432\\u0438\\u043d\\u043e: 17230<br>\\u0421\\u0430\\u043c\\u043e\\u0435 \\u0434\\u043e\\u0440\\u043e\\u0433\\u043e\\u0435 \\u0432\\u0438\\u043d\\u043e: 17230<br>\\u0421\\u0430\\u043c\\u044b\\u0439 \\u043f\\u043e\\u043f\\u0443\\u043b\\u044f\\u0440\\u043d\\u044b\\u0439 \\u0446\\u0432\\u0435\\u0442 \\u0432\\u0438\\u043d\\u0430: \\u043a\\u0440\\u0430\\u0441\\u043d\\u043e\\u0435<br>\\u0421\\u0430\\u043c\\u044b\\u0439 \\u043f\\u043e\\u043f\\u0443\\u043b\\u044f\\u0440\\u043d\\u044b\\u0439 \\u0441\\u043e\\u0440\\u0442 \\u0432\\u0438\\u043d\\u043e\\u0433\\u0440\\u0430\\u0434\\u0430: \\u0433\\u0440\\u044e\\u043d\\u0435\\u0440 \\u0432\\u0435\\u043b\\u044c\\u0442\\u043b\\u0438\\u043d\\u0435\\u0440<br>\\u0421\\u0430\\u043c\\u044b\\u0439 \\u043f\\u043e\\u043f\\u0443\\u043b\\u044f\\u0440\\u043d\\u044b\\u0439 \\u043f\\u0440\\u043e\\u0438\\u0437\\u0432\\u043e\\u0434\\u0438\\u0442\\u0435\\u043b\\u044c: Yatir Winery\",\"\\u0418\\u0441\\u043f\\u0430\\u043d\\u0438\\u044f<br>\\u041a\\u043e\\u043b-\\u0432\\u043e \\u0432\\u0438\\u043d: 266<br>\\u0421\\u0430\\u043c\\u043e\\u0435 \\u0434\\u0435\\u0448\\u0451\\u0432\\u043e\\u0435 \\u0432\\u0438\\u043d\\u043e: 850<br>\\u0421\\u0430\\u043c\\u043e\\u0435 \\u0434\\u043e\\u0440\\u043e\\u0433\\u043e\\u0435 \\u0432\\u0438\\u043d\\u043e: 317390<br>\\u0421\\u0430\\u043c\\u044b\\u0439 \\u043f\\u043e\\u043f\\u0443\\u043b\\u044f\\u0440\\u043d\\u044b\\u0439 \\u0446\\u0432\\u0435\\u0442 \\u0432\\u0438\\u043d\\u0430: \\u043a\\u0440\\u0430\\u0441\\u043d\\u043e\\u0435<br>\\u0421\\u0430\\u043c\\u044b\\u0439 \\u043f\\u043e\\u043f\\u0443\\u043b\\u044f\\u0440\\u043d\\u044b\\u0439 \\u0441\\u043e\\u0440\\u0442 \\u0432\\u0438\\u043d\\u043e\\u0433\\u0440\\u0430\\u0434\\u0430: \\u0441\\u0430\\u043f\\u0435\\u0440\\u0430\\u0432\\u0438<br>\\u0421\\u0430\\u043c\\u044b\\u0439 \\u043f\\u043e\\u043f\\u0443\\u043b\\u044f\\u0440\\u043d\\u044b\\u0439 \\u043f\\u0440\\u043e\\u0438\\u0437\\u0432\\u043e\\u0434\\u0438\\u0442\\u0435\\u043b\\u044c: Marques de Riscal\",\"\\u0418\\u0442\\u0430\\u043b\\u0438\\u044f<br>\\u041a\\u043e\\u043b-\\u0432\\u043e \\u0432\\u0438\\u043d: 1142<br>\\u0421\\u0430\\u043c\\u043e\\u0435 \\u0434\\u0435\\u0448\\u0451\\u0432\\u043e\\u0435 \\u0432\\u0438\\u043d\\u043e: 340<br>\\u0421\\u0430\\u043c\\u043e\\u0435 \\u0434\\u043e\\u0440\\u043e\\u0433\\u043e\\u0435 \\u0432\\u0438\\u043d\\u043e: 1849990<br>\\u0421\\u0430\\u043c\\u044b\\u0439 \\u043f\\u043e\\u043f\\u0443\\u043b\\u044f\\u0440\\u043d\\u044b\\u0439 \\u0446\\u0432\\u0435\\u0442 \\u0432\\u0438\\u043d\\u0430: \\u043a\\u0440\\u0430\\u0441\\u043d\\u043e\\u0435<br>\\u0421\\u0430\\u043c\\u044b\\u0439 \\u043f\\u043e\\u043f\\u0443\\u043b\\u044f\\u0440\\u043d\\u044b\\u0439 \\u0441\\u043e\\u0440\\u0442 \\u0432\\u0438\\u043d\\u043e\\u0433\\u0440\\u0430\\u0434\\u0430: \\u043a\\u0430\\u0431\\u0435\\u0440\\u043d\\u0435 \\u0441\\u043e\\u0432\\u0438\\u043d\\u044c\\u043e\\u043d<br>\\u0421\\u0430\\u043c\\u044b\\u0439 \\u043f\\u043e\\u043f\\u0443\\u043b\\u044f\\u0440\\u043d\\u044b\\u0439 \\u043f\\u0440\\u043e\\u0438\\u0437\\u0432\\u043e\\u0434\\u0438\\u0442\\u0435\\u043b\\u044c: Frescobaldi\",\"\\u041d\\u043e\\u0432\\u0430\\u044f \\u0417\\u0435\\u043b\\u0430\\u043d\\u0434\\u0438\\u044f<br>\\u041a\\u043e\\u043b-\\u0432\\u043e \\u0432\\u0438\\u043d: 56<br>\\u0421\\u0430\\u043c\\u043e\\u0435 \\u0434\\u0435\\u0448\\u0451\\u0432\\u043e\\u0435 \\u0432\\u0438\\u043d\\u043e: 1640<br>\\u0421\\u0430\\u043c\\u043e\\u0435 \\u0434\\u043e\\u0440\\u043e\\u0433\\u043e\\u0435 \\u0432\\u0438\\u043d\\u043e: 44990<br>\\u0421\\u0430\\u043c\\u044b\\u0439 \\u043f\\u043e\\u043f\\u0443\\u043b\\u044f\\u0440\\u043d\\u044b\\u0439 \\u0446\\u0432\\u0435\\u0442 \\u0432\\u0438\\u043d\\u0430: \\u043a\\u0440\\u0430\\u0441\\u043d\\u043e\\u0435<br>\\u0421\\u0430\\u043c\\u044b\\u0439 \\u043f\\u043e\\u043f\\u0443\\u043b\\u044f\\u0440\\u043d\\u044b\\u0439 \\u0441\\u043e\\u0440\\u0442 \\u0432\\u0438\\u043d\\u043e\\u0433\\u0440\\u0430\\u0434\\u0430: \\u0448\\u0438\\u0440\\u0430\\u0437<br>\\u0421\\u0430\\u043c\\u044b\\u0439 \\u043f\\u043e\\u043f\\u0443\\u043b\\u044f\\u0440\\u043d\\u044b\\u0439 \\u043f\\u0440\\u043e\\u0438\\u0437\\u0432\\u043e\\u0434\\u0438\\u0442\\u0435\\u043b\\u044c: Felton Road\",\"\\u041f\\u043e\\u0440\\u0442\\u0443\\u0433\\u0430\\u043b\\u0438\\u044f<br>\\u041a\\u043e\\u043b-\\u0432\\u043e \\u0432\\u0438\\u043d: 12<br>\\u0421\\u0430\\u043c\\u043e\\u0435 \\u0434\\u0435\\u0448\\u0451\\u0432\\u043e\\u0435 \\u0432\\u0438\\u043d\\u043e: 890<br>\\u0421\\u0430\\u043c\\u043e\\u0435 \\u0434\\u043e\\u0440\\u043e\\u0433\\u043e\\u0435 \\u0432\\u0438\\u043d\\u043e: 13510<br>\\u0421\\u0430\\u043c\\u044b\\u0439 \\u043f\\u043e\\u043f\\u0443\\u043b\\u044f\\u0440\\u043d\\u044b\\u0439 \\u0446\\u0432\\u0435\\u0442 \\u0432\\u0438\\u043d\\u0430: \\u043a\\u0440\\u0430\\u0441\\u043d\\u043e\\u0435<br>\\u0421\\u0430\\u043c\\u044b\\u0439 \\u043f\\u043e\\u043f\\u0443\\u043b\\u044f\\u0440\\u043d\\u044b\\u0439 \\u0441\\u043e\\u0440\\u0442 \\u0432\\u0438\\u043d\\u043e\\u0433\\u0440\\u0430\\u0434\\u0430: \\u043a\\u0430\\u0431\\u0435\\u0440\\u043d\\u0435 \\u0441\\u043e\\u0432\\u0438\\u043d\\u044c\\u043e\\u043d<br>\\u0421\\u0430\\u043c\\u044b\\u0439 \\u043f\\u043e\\u043f\\u0443\\u043b\\u044f\\u0440\\u043d\\u044b\\u0439 \\u043f\\u0440\\u043e\\u0438\\u0437\\u0432\\u043e\\u0434\\u0438\\u0442\\u0435\\u043b\\u044c: Prats & Symington\",\"\\u0420\\u0435\\u0441\\u043f\\u0443\\u0431\\u043b\\u0438\\u043a\\u0430 \\u041c\\u043e\\u043b\\u0434\\u043e\\u0432\\u0430<br>\\u041a\\u043e\\u043b-\\u0432\\u043e \\u0432\\u0438\\u043d: 8<br>\\u0421\\u0430\\u043c\\u043e\\u0435 \\u0434\\u0435\\u0448\\u0451\\u0432\\u043e\\u0435 \\u0432\\u0438\\u043d\\u043e: 590<br>\\u0421\\u0430\\u043c\\u043e\\u0435 \\u0434\\u043e\\u0440\\u043e\\u0433\\u043e\\u0435 \\u0432\\u0438\\u043d\\u043e: 590<br>\\u0421\\u0430\\u043c\\u044b\\u0439 \\u043f\\u043e\\u043f\\u0443\\u043b\\u044f\\u0440\\u043d\\u044b\\u0439 \\u0446\\u0432\\u0435\\u0442 \\u0432\\u0438\\u043d\\u0430: \\u043a\\u0440\\u0430\\u0441\\u043d\\u043e\\u0435<br>\\u0421\\u0430\\u043c\\u044b\\u0439 \\u043f\\u043e\\u043f\\u0443\\u043b\\u044f\\u0440\\u043d\\u044b\\u0439 \\u0441\\u043e\\u0440\\u0442 \\u0432\\u0438\\u043d\\u043e\\u0433\\u0440\\u0430\\u0434\\u0430: \\u043a\\u0430\\u0431\\u0435\\u0440\\u043d\\u0435 \\u0441\\u043e\\u0432\\u0438\\u043d\\u044c\\u043e\\u043d<br>\\u0421\\u0430\\u043c\\u044b\\u0439 \\u043f\\u043e\\u043f\\u0443\\u043b\\u044f\\u0440\\u043d\\u044b\\u0439 \\u043f\\u0440\\u043e\\u0438\\u0437\\u0432\\u043e\\u0434\\u0438\\u0442\\u0435\\u043b\\u044c: Bostavan\",\"\\u0420\\u043e\\u0441\\u0441\\u0438\\u044f<br>\\u041a\\u043e\\u043b-\\u0432\\u043e \\u0432\\u0438\\u043d: 102<br>\\u0421\\u0430\\u043c\\u043e\\u0435 \\u0434\\u0435\\u0448\\u0451\\u0432\\u043e\\u0435 \\u0432\\u0438\\u043d\\u043e: 560<br>\\u0421\\u0430\\u043c\\u043e\\u0435 \\u0434\\u043e\\u0440\\u043e\\u0433\\u043e\\u0435 \\u0432\\u0438\\u043d\\u043e: 8490<br>\\u0421\\u0430\\u043c\\u044b\\u0439 \\u043f\\u043e\\u043f\\u0443\\u043b\\u044f\\u0440\\u043d\\u044b\\u0439 \\u0446\\u0432\\u0435\\u0442 \\u0432\\u0438\\u043d\\u0430: \\u0431\\u0435\\u043b\\u043e\\u0435<br>\\u0421\\u0430\\u043c\\u044b\\u0439 \\u043f\\u043e\\u043f\\u0443\\u043b\\u044f\\u0440\\u043d\\u044b\\u0439 \\u0441\\u043e\\u0440\\u0442 \\u0432\\u0438\\u043d\\u043e\\u0433\\u0440\\u0430\\u0434\\u0430: \\u043f\\u0438\\u043d\\u043e \\u043d\\u0443\\u0430\\u0440<br>\\u0421\\u0430\\u043c\\u044b\\u0439 \\u043f\\u043e\\u043f\\u0443\\u043b\\u044f\\u0440\\u043d\\u044b\\u0439 \\u043f\\u0440\\u043e\\u0438\\u0437\\u0432\\u043e\\u0434\\u0438\\u0442\\u0435\\u043b\\u044c: \\u0421\\u0438\\u043a\\u043e\\u0440\\u044b\",\"\\u0421\\u0435\\u0440\\u0431\\u0438\\u044f<br>\\u041a\\u043e\\u043b-\\u0432\\u043e \\u0432\\u0438\\u043d: 1<br>\\u0421\\u0430\\u043c\\u043e\\u0435 \\u0434\\u0435\\u0448\\u0451\\u0432\\u043e\\u0435 \\u0432\\u0438\\u043d\\u043e: 5090<br>\\u0421\\u0430\\u043c\\u043e\\u0435 \\u0434\\u043e\\u0440\\u043e\\u0433\\u043e\\u0435 \\u0432\\u0438\\u043d\\u043e: 5090<br>\\u0421\\u0430\\u043c\\u044b\\u0439 \\u043f\\u043e\\u043f\\u0443\\u043b\\u044f\\u0440\\u043d\\u044b\\u0439 \\u0446\\u0432\\u0435\\u0442 \\u0432\\u0438\\u043d\\u0430: \\u0431\\u0435\\u043b\\u043e\\u0435<br>\\u0421\\u0430\\u043c\\u044b\\u0439 \\u043f\\u043e\\u043f\\u0443\\u043b\\u044f\\u0440\\u043d\\u044b\\u0439 \\u0441\\u043e\\u0440\\u0442 \\u0432\\u0438\\u043d\\u043e\\u0433\\u0440\\u0430\\u0434\\u0430: \\u0448\\u0430\\u0440\\u0434\\u043e\\u043d\\u0435<br>\\u0421\\u0430\\u043c\\u044b\\u0439 \\u043f\\u043e\\u043f\\u0443\\u043b\\u044f\\u0440\\u043d\\u044b\\u0439 \\u043f\\u0440\\u043e\\u0438\\u0437\\u0432\\u043e\\u0434\\u0438\\u0442\\u0435\\u043b\\u044c: Vinarija Aleksandrovic\",\"\\u0421\\u043b\\u043e\\u0432\\u0435\\u043d\\u0438\\u044f<br>\\u041a\\u043e\\u043b-\\u0432\\u043e \\u0432\\u0438\\u043d: 1<br>\\u0421\\u0430\\u043c\\u043e\\u0435 \\u0434\\u0435\\u0448\\u0451\\u0432\\u043e\\u0435 \\u0432\\u0438\\u043d\\u043e: 4490<br>\\u0421\\u0430\\u043c\\u043e\\u0435 \\u0434\\u043e\\u0440\\u043e\\u0433\\u043e\\u0435 \\u0432\\u0438\\u043d\\u043e: 4490<br>\\u0421\\u0430\\u043c\\u044b\\u0439 \\u043f\\u043e\\u043f\\u0443\\u043b\\u044f\\u0440\\u043d\\u044b\\u0439 \\u0446\\u0432\\u0435\\u0442 \\u0432\\u0438\\u043d\\u0430: \\u0431\\u0435\\u043b\\u043e\\u0435<br>\\u0421\\u0430\\u043c\\u044b\\u0439 \\u043f\\u043e\\u043f\\u0443\\u043b\\u044f\\u0440\\u043d\\u044b\\u0439 \\u0441\\u043e\\u0440\\u0442 \\u0432\\u0438\\u043d\\u043e\\u0433\\u0440\\u0430\\u0434\\u0430: \\u043c\\u0435\\u0440\\u043b\\u043e<br>\\u0421\\u0430\\u043c\\u044b\\u0439 \\u043f\\u043e\\u043f\\u0443\\u043b\\u044f\\u0440\\u043d\\u044b\\u0439 \\u043f\\u0440\\u043e\\u0438\\u0437\\u0432\\u043e\\u0434\\u0438\\u0442\\u0435\\u043b\\u044c: Vino Gross\",\"\\u0421\\u043e\\u0435\\u0434\\u0438\\u043d\\u0435\\u043d\\u043d\\u044b\\u0435 \\u0428\\u0442\\u0430\\u0442\\u044b \\u0410\\u043c\\u0435\\u0440\\u0438\\u043a\\u0438<br>\\u041a\\u043e\\u043b-\\u0432\\u043e \\u0432\\u0438\\u043d: 86<br>\\u0421\\u0430\\u043c\\u043e\\u0435 \\u0434\\u0435\\u0448\\u0451\\u0432\\u043e\\u0435 \\u0432\\u0438\\u043d\\u043e: 1490<br>\\u0421\\u0430\\u043c\\u043e\\u0435 \\u0434\\u043e\\u0440\\u043e\\u0433\\u043e\\u0435 \\u0432\\u0438\\u043d\\u043e: 303590<br>\\u0421\\u0430\\u043c\\u044b\\u0439 \\u043f\\u043e\\u043f\\u0443\\u043b\\u044f\\u0440\\u043d\\u044b\\u0439 \\u0446\\u0432\\u0435\\u0442 \\u0432\\u0438\\u043d\\u0430: \\u043a\\u0440\\u0430\\u0441\\u043d\\u043e\\u0435<br>\\u0421\\u0430\\u043c\\u044b\\u0439 \\u043f\\u043e\\u043f\\u0443\\u043b\\u044f\\u0440\\u043d\\u044b\\u0439 \\u0441\\u043e\\u0440\\u0442 \\u0432\\u0438\\u043d\\u043e\\u0433\\u0440\\u0430\\u0434\\u0430: \\u0444\\u0443\\u0440\\u043c\\u0438\\u043d\\u0442<br>\\u0421\\u0430\\u043c\\u044b\\u0439 \\u043f\\u043e\\u043f\\u0443\\u043b\\u044f\\u0440\\u043d\\u044b\\u0439 \\u043f\\u0440\\u043e\\u0438\\u0437\\u0432\\u043e\\u0434\\u0438\\u0442\\u0435\\u043b\\u044c: Dominus Estate\",\"\\u0424\\u0440\\u0430\\u043d\\u0446\\u0438\\u044f<br>\\u041a\\u043e\\u043b-\\u0432\\u043e \\u0432\\u0438\\u043d: 1761<br>\\u0421\\u0430\\u043c\\u043e\\u0435 \\u0434\\u0435\\u0448\\u0451\\u0432\\u043e\\u0435 \\u0432\\u0438\\u043d\\u043e: 940<br>\\u0421\\u0430\\u043c\\u043e\\u0435 \\u0434\\u043e\\u0440\\u043e\\u0433\\u043e\\u0435 \\u0432\\u0438\\u043d\\u043e: 1207490<br>\\u0421\\u0430\\u043c\\u044b\\u0439 \\u043f\\u043e\\u043f\\u0443\\u043b\\u044f\\u0440\\u043d\\u044b\\u0439 \\u0446\\u0432\\u0435\\u0442 \\u0432\\u0438\\u043d\\u0430: \\u043a\\u0440\\u0430\\u0441\\u043d\\u043e\\u0435<br>\\u0421\\u0430\\u043c\\u044b\\u0439 \\u043f\\u043e\\u043f\\u0443\\u043b\\u044f\\u0440\\u043d\\u044b\\u0439 \\u0441\\u043e\\u0440\\u0442 \\u0432\\u0438\\u043d\\u043e\\u0433\\u0440\\u0430\\u0434\\u0430: \\u043a\\u0430\\u0431\\u0435\\u0440\\u043d\\u0435 \\u0441\\u043e\\u0432\\u0438\\u043d\\u044c\\u043e\\u043d<br>\\u0421\\u0430\\u043c\\u044b\\u0439 \\u043f\\u043e\\u043f\\u0443\\u043b\\u044f\\u0440\\u043d\\u044b\\u0439 \\u043f\\u0440\\u043e\\u0438\\u0437\\u0432\\u043e\\u0434\\u0438\\u0442\\u0435\\u043b\\u044c: Joseph Drouhin\",\"\\u0427\\u0438\\u043b\\u0438<br>\\u041a\\u043e\\u043b-\\u0432\\u043e \\u0432\\u0438\\u043d: 100<br>\\u0421\\u0430\\u043c\\u043e\\u0435 \\u0434\\u0435\\u0448\\u0451\\u0432\\u043e\\u0435 \\u0432\\u0438\\u043d\\u043e: 840<br>\\u0421\\u0430\\u043c\\u043e\\u0435 \\u0434\\u043e\\u0440\\u043e\\u0433\\u043e\\u0435 \\u0432\\u0438\\u043d\\u043e: 174990<br>\\u0421\\u0430\\u043c\\u044b\\u0439 \\u043f\\u043e\\u043f\\u0443\\u043b\\u044f\\u0440\\u043d\\u044b\\u0439 \\u0446\\u0432\\u0435\\u0442 \\u0432\\u0438\\u043d\\u0430: \\u043a\\u0440\\u0430\\u0441\\u043d\\u043e\\u0435<br>\\u0421\\u0430\\u043c\\u044b\\u0439 \\u043f\\u043e\\u043f\\u0443\\u043b\\u044f\\u0440\\u043d\\u044b\\u0439 \\u0441\\u043e\\u0440\\u0442 \\u0432\\u0438\\u043d\\u043e\\u0433\\u0440\\u0430\\u0434\\u0430: \\u0430\\u0440\\u0435\\u043d\\u0438<br>\\u0421\\u0430\\u043c\\u044b\\u0439 \\u043f\\u043e\\u043f\\u0443\\u043b\\u044f\\u0440\\u043d\\u044b\\u0439 \\u043f\\u0440\\u043e\\u0438\\u0437\\u0432\\u043e\\u0434\\u0438\\u0442\\u0435\\u043b\\u044c: Santa Carolina\",\"\\u042e\\u0436\\u043d\\u0430\\u044f \\u0410\\u0444\\u0440\\u0438\\u043a\\u0430<br>\\u041a\\u043e\\u043b-\\u0432\\u043e \\u0432\\u0438\\u043d: 84<br>\\u0421\\u0430\\u043c\\u043e\\u0435 \\u0434\\u0435\\u0448\\u0451\\u0432\\u043e\\u0435 \\u0432\\u0438\\u043d\\u043e: 760<br>\\u0421\\u0430\\u043c\\u043e\\u0435 \\u0434\\u043e\\u0440\\u043e\\u0433\\u043e\\u0435 \\u0432\\u0438\\u043d\\u043e: 19990<br>\\u0421\\u0430\\u043c\\u044b\\u0439 \\u043f\\u043e\\u043f\\u0443\\u043b\\u044f\\u0440\\u043d\\u044b\\u0439 \\u0446\\u0432\\u0435\\u0442 \\u0432\\u0438\\u043d\\u0430: \\u0431\\u0435\\u043b\\u043e\\u0435<br>\\u0421\\u0430\\u043c\\u044b\\u0439 \\u043f\\u043e\\u043f\\u0443\\u043b\\u044f\\u0440\\u043d\\u044b\\u0439 \\u0441\\u043e\\u0440\\u0442 \\u0432\\u0438\\u043d\\u043e\\u0433\\u0440\\u0430\\u0434\\u0430: \\u0444\\u0443\\u0440\\u043c\\u0438\\u043d\\u0442<br>\\u0421\\u0430\\u043c\\u044b\\u0439 \\u043f\\u043e\\u043f\\u0443\\u043b\\u044f\\u0440\\u043d\\u044b\\u0439 \\u043f\\u0440\\u043e\\u0438\\u0437\\u0432\\u043e\\u0434\\u0438\\u0442\\u0435\\u043b\\u044c: Fairview\"],\"z\":[8331,4047,3262,2519,12976,5437,5352,1826,17230,8481,11110,8716,5110,590,2495,5090,4490,22572,17908,7684,3950],\"type\":\"choropleth\"}],                        {\"template\":{\"data\":{\"histogram2dcontour\":[{\"type\":\"histogram2dcontour\",\"colorbar\":{\"outlinewidth\":0,\"ticks\":\"\"},\"colorscale\":[[0.0,\"#0d0887\"],[0.1111111111111111,\"#46039f\"],[0.2222222222222222,\"#7201a8\"],[0.3333333333333333,\"#9c179e\"],[0.4444444444444444,\"#bd3786\"],[0.5555555555555556,\"#d8576b\"],[0.6666666666666666,\"#ed7953\"],[0.7777777777777778,\"#fb9f3a\"],[0.8888888888888888,\"#fdca26\"],[1.0,\"#f0f921\"]]}],\"choropleth\":[{\"type\":\"choropleth\",\"colorbar\":{\"outlinewidth\":0,\"ticks\":\"\"}}],\"histogram2d\":[{\"type\":\"histogram2d\",\"colorbar\":{\"outlinewidth\":0,\"ticks\":\"\"},\"colorscale\":[[0.0,\"#0d0887\"],[0.1111111111111111,\"#46039f\"],[0.2222222222222222,\"#7201a8\"],[0.3333333333333333,\"#9c179e\"],[0.4444444444444444,\"#bd3786\"],[0.5555555555555556,\"#d8576b\"],[0.6666666666666666,\"#ed7953\"],[0.7777777777777778,\"#fb9f3a\"],[0.8888888888888888,\"#fdca26\"],[1.0,\"#f0f921\"]]}],\"heatmap\":[{\"type\":\"heatmap\",\"colorbar\":{\"outlinewidth\":0,\"ticks\":\"\"},\"colorscale\":[[0.0,\"#0d0887\"],[0.1111111111111111,\"#46039f\"],[0.2222222222222222,\"#7201a8\"],[0.3333333333333333,\"#9c179e\"],[0.4444444444444444,\"#bd3786\"],[0.5555555555555556,\"#d8576b\"],[0.6666666666666666,\"#ed7953\"],[0.7777777777777778,\"#fb9f3a\"],[0.8888888888888888,\"#fdca26\"],[1.0,\"#f0f921\"]]}],\"heatmapgl\":[{\"type\":\"heatmapgl\",\"colorbar\":{\"outlinewidth\":0,\"ticks\":\"\"},\"colorscale\":[[0.0,\"#0d0887\"],[0.1111111111111111,\"#46039f\"],[0.2222222222222222,\"#7201a8\"],[0.3333333333333333,\"#9c179e\"],[0.4444444444444444,\"#bd3786\"],[0.5555555555555556,\"#d8576b\"],[0.6666666666666666,\"#ed7953\"],[0.7777777777777778,\"#fb9f3a\"],[0.8888888888888888,\"#fdca26\"],[1.0,\"#f0f921\"]]}],\"contourcarpet\":[{\"type\":\"contourcarpet\",\"colorbar\":{\"outlinewidth\":0,\"ticks\":\"\"}}],\"contour\":[{\"type\":\"contour\",\"colorbar\":{\"outlinewidth\":0,\"ticks\":\"\"},\"colorscale\":[[0.0,\"#0d0887\"],[0.1111111111111111,\"#46039f\"],[0.2222222222222222,\"#7201a8\"],[0.3333333333333333,\"#9c179e\"],[0.4444444444444444,\"#bd3786\"],[0.5555555555555556,\"#d8576b\"],[0.6666666666666666,\"#ed7953\"],[0.7777777777777778,\"#fb9f3a\"],[0.8888888888888888,\"#fdca26\"],[1.0,\"#f0f921\"]]}],\"surface\":[{\"type\":\"surface\",\"colorbar\":{\"outlinewidth\":0,\"ticks\":\"\"},\"colorscale\":[[0.0,\"#0d0887\"],[0.1111111111111111,\"#46039f\"],[0.2222222222222222,\"#7201a8\"],[0.3333333333333333,\"#9c179e\"],[0.4444444444444444,\"#bd3786\"],[0.5555555555555556,\"#d8576b\"],[0.6666666666666666,\"#ed7953\"],[0.7777777777777778,\"#fb9f3a\"],[0.8888888888888888,\"#fdca26\"],[1.0,\"#f0f921\"]]}],\"mesh3d\":[{\"type\":\"mesh3d\",\"colorbar\":{\"outlinewidth\":0,\"ticks\":\"\"}}],\"scatter\":[{\"fillpattern\":{\"fillmode\":\"overlay\",\"size\":10,\"solidity\":0.2},\"type\":\"scatter\"}],\"parcoords\":[{\"type\":\"parcoords\",\"line\":{\"colorbar\":{\"outlinewidth\":0,\"ticks\":\"\"}}}],\"scatterpolargl\":[{\"type\":\"scatterpolargl\",\"marker\":{\"colorbar\":{\"outlinewidth\":0,\"ticks\":\"\"}}}],\"bar\":[{\"error_x\":{\"color\":\"#2a3f5f\"},\"error_y\":{\"color\":\"#2a3f5f\"},\"marker\":{\"line\":{\"color\":\"#E5ECF6\",\"width\":0.5},\"pattern\":{\"fillmode\":\"overlay\",\"size\":10,\"solidity\":0.2}},\"type\":\"bar\"}],\"scattergeo\":[{\"type\":\"scattergeo\",\"marker\":{\"colorbar\":{\"outlinewidth\":0,\"ticks\":\"\"}}}],\"scatterpolar\":[{\"type\":\"scatterpolar\",\"marker\":{\"colorbar\":{\"outlinewidth\":0,\"ticks\":\"\"}}}],\"histogram\":[{\"marker\":{\"pattern\":{\"fillmode\":\"overlay\",\"size\":10,\"solidity\":0.2}},\"type\":\"histogram\"}],\"scattergl\":[{\"type\":\"scattergl\",\"marker\":{\"colorbar\":{\"outlinewidth\":0,\"ticks\":\"\"}}}],\"scatter3d\":[{\"type\":\"scatter3d\",\"line\":{\"colorbar\":{\"outlinewidth\":0,\"ticks\":\"\"}},\"marker\":{\"colorbar\":{\"outlinewidth\":0,\"ticks\":\"\"}}}],\"scattermapbox\":[{\"type\":\"scattermapbox\",\"marker\":{\"colorbar\":{\"outlinewidth\":0,\"ticks\":\"\"}}}],\"scatterternary\":[{\"type\":\"scatterternary\",\"marker\":{\"colorbar\":{\"outlinewidth\":0,\"ticks\":\"\"}}}],\"scattercarpet\":[{\"type\":\"scattercarpet\",\"marker\":{\"colorbar\":{\"outlinewidth\":0,\"ticks\":\"\"}}}],\"carpet\":[{\"aaxis\":{\"endlinecolor\":\"#2a3f5f\",\"gridcolor\":\"white\",\"linecolor\":\"white\",\"minorgridcolor\":\"white\",\"startlinecolor\":\"#2a3f5f\"},\"baxis\":{\"endlinecolor\":\"#2a3f5f\",\"gridcolor\":\"white\",\"linecolor\":\"white\",\"minorgridcolor\":\"white\",\"startlinecolor\":\"#2a3f5f\"},\"type\":\"carpet\"}],\"table\":[{\"cells\":{\"fill\":{\"color\":\"#EBF0F8\"},\"line\":{\"color\":\"white\"}},\"header\":{\"fill\":{\"color\":\"#C8D4E3\"},\"line\":{\"color\":\"white\"}},\"type\":\"table\"}],\"barpolar\":[{\"marker\":{\"line\":{\"color\":\"#E5ECF6\",\"width\":0.5},\"pattern\":{\"fillmode\":\"overlay\",\"size\":10,\"solidity\":0.2}},\"type\":\"barpolar\"}],\"pie\":[{\"automargin\":true,\"type\":\"pie\"}]},\"layout\":{\"autotypenumbers\":\"strict\",\"colorway\":[\"#636efa\",\"#EF553B\",\"#00cc96\",\"#ab63fa\",\"#FFA15A\",\"#19d3f3\",\"#FF6692\",\"#B6E880\",\"#FF97FF\",\"#FECB52\"],\"font\":{\"color\":\"#2a3f5f\"},\"hovermode\":\"closest\",\"hoverlabel\":{\"align\":\"left\"},\"paper_bgcolor\":\"white\",\"plot_bgcolor\":\"#E5ECF6\",\"polar\":{\"bgcolor\":\"#E5ECF6\",\"angularaxis\":{\"gridcolor\":\"white\",\"linecolor\":\"white\",\"ticks\":\"\"},\"radialaxis\":{\"gridcolor\":\"white\",\"linecolor\":\"white\",\"ticks\":\"\"}},\"ternary\":{\"bgcolor\":\"#E5ECF6\",\"aaxis\":{\"gridcolor\":\"white\",\"linecolor\":\"white\",\"ticks\":\"\"},\"baxis\":{\"gridcolor\":\"white\",\"linecolor\":\"white\",\"ticks\":\"\"},\"caxis\":{\"gridcolor\":\"white\",\"linecolor\":\"white\",\"ticks\":\"\"}},\"coloraxis\":{\"colorbar\":{\"outlinewidth\":0,\"ticks\":\"\"}},\"colorscale\":{\"sequential\":[[0.0,\"#0d0887\"],[0.1111111111111111,\"#46039f\"],[0.2222222222222222,\"#7201a8\"],[0.3333333333333333,\"#9c179e\"],[0.4444444444444444,\"#bd3786\"],[0.5555555555555556,\"#d8576b\"],[0.6666666666666666,\"#ed7953\"],[0.7777777777777778,\"#fb9f3a\"],[0.8888888888888888,\"#fdca26\"],[1.0,\"#f0f921\"]],\"sequentialminus\":[[0.0,\"#0d0887\"],[0.1111111111111111,\"#46039f\"],[0.2222222222222222,\"#7201a8\"],[0.3333333333333333,\"#9c179e\"],[0.4444444444444444,\"#bd3786\"],[0.5555555555555556,\"#d8576b\"],[0.6666666666666666,\"#ed7953\"],[0.7777777777777778,\"#fb9f3a\"],[0.8888888888888888,\"#fdca26\"],[1.0,\"#f0f921\"]],\"diverging\":[[0,\"#8e0152\"],[0.1,\"#c51b7d\"],[0.2,\"#de77ae\"],[0.3,\"#f1b6da\"],[0.4,\"#fde0ef\"],[0.5,\"#f7f7f7\"],[0.6,\"#e6f5d0\"],[0.7,\"#b8e186\"],[0.8,\"#7fbc41\"],[0.9,\"#4d9221\"],[1,\"#276419\"]]},\"xaxis\":{\"gridcolor\":\"white\",\"linecolor\":\"white\",\"ticks\":\"\",\"title\":{\"standoff\":15},\"zerolinecolor\":\"white\",\"automargin\":true,\"zerolinewidth\":2},\"yaxis\":{\"gridcolor\":\"white\",\"linecolor\":\"white\",\"ticks\":\"\",\"title\":{\"standoff\":15},\"zerolinecolor\":\"white\",\"automargin\":true,\"zerolinewidth\":2},\"scene\":{\"xaxis\":{\"backgroundcolor\":\"#E5ECF6\",\"gridcolor\":\"white\",\"linecolor\":\"white\",\"showbackground\":true,\"ticks\":\"\",\"zerolinecolor\":\"white\",\"gridwidth\":2},\"yaxis\":{\"backgroundcolor\":\"#E5ECF6\",\"gridcolor\":\"white\",\"linecolor\":\"white\",\"showbackground\":true,\"ticks\":\"\",\"zerolinecolor\":\"white\",\"gridwidth\":2},\"zaxis\":{\"backgroundcolor\":\"#E5ECF6\",\"gridcolor\":\"white\",\"linecolor\":\"white\",\"showbackground\":true,\"ticks\":\"\",\"zerolinecolor\":\"white\",\"gridwidth\":2}},\"shapedefaults\":{\"line\":{\"color\":\"#2a3f5f\"}},\"annotationdefaults\":{\"arrowcolor\":\"#2a3f5f\",\"arrowhead\":0,\"arrowwidth\":1},\"geo\":{\"bgcolor\":\"white\",\"landcolor\":\"#E5ECF6\",\"subunitcolor\":\"white\",\"showland\":true,\"showlakes\":true,\"lakecolor\":\"white\"},\"title\":{\"x\":0.05},\"mapbox\":{\"style\":\"light\"}}},\"title\":{\"text\":\"\\u0421\\u0440\\u0435\\u0434\\u043d\\u044f\\u044f \\u0441\\u0442\\u043e\\u0438\\u043c\\u043e\\u0441\\u0442\\u044c \\u0431\\u0443\\u0442\\u044b\\u043b\\u043a\\u0438 \\u0432\\u0438\\u043d\\u0430\"},\"geo\":{\"projection\":{\"type\":\"equirectangular\"},\"showframe\":false,\"showcoastlines\":false},\"annotations\":[{\"showarrow\":false,\"text\":\"Data \\u0422\\u043e\\u0441\\u043a\\u0430\\u043d\\u0430\",\"x\":0.55,\"xref\":\"paper\",\"y\":0.1,\"yref\":\"paper\"}]},                        {\"responsive\": true}                    ).then(function(){\n",
       "                            \n",
       "var gd = document.getElementById('fa406f1c-2c69-4323-899d-37b31a2ea5d4');\n",
       "var x = new MutationObserver(function (mutations, observer) {{\n",
       "        var display = window.getComputedStyle(gd).display;\n",
       "        if (!display || display === 'none') {{\n",
       "            console.log([gd, 'removed!']);\n",
       "            Plotly.purge(gd);\n",
       "            observer.disconnect();\n",
       "        }}\n",
       "}});\n",
       "\n",
       "// Listen for the removal of the full notebook cells\n",
       "var notebookContainer = gd.closest('#notebook-container');\n",
       "if (notebookContainer) {{\n",
       "    x.observe(notebookContainer, {childList: true});\n",
       "}}\n",
       "\n",
       "// Listen for the clearing of the current output cell\n",
       "var outputEl = gd.closest('.output');\n",
       "if (outputEl) {{\n",
       "    x.observe(outputEl, {childList: true});\n",
       "}}\n",
       "\n",
       "                        })                };                });            </script>        </div>"
      ]
     },
     "metadata": {},
     "output_type": "display_data"
    }
   ],
   "source": [
    "import plotly.graph_objects as go\n",
    "import plotly.io as pio\n",
    "\n",
    "fig = go.Figure(data=go.Choropleth(\n",
    "    locations = metrics_by_country['CODE'],\n",
    "    z = metrics_by_country['mean'],\n",
    "    text = metrics_by_country['info'],\n",
    "    colorscale = 'Reds',\n",
    "    autocolorscale=False,\n",
    "    reversescale=False,\n",
    "    marker_line_color='black',\n",
    "    marker_line_width=0.7,\n",
    "\n",
    "))\n",
    "\n",
    "fig.update_layout(\n",
    "    title_text='Средняя стоимость бутылки вина',\n",
    "    geo=dict(\n",
    "        showframe=False,\n",
    "        showcoastlines=False,\n",
    "        projection_type='equirectangular'\n",
    "    ),\n",
    "    annotations = [dict(\n",
    "        x=0.55,\n",
    "        y=0.1,\n",
    "        xref='paper',\n",
    "        yref='paper',\n",
    "        text='Data Тоскана',\n",
    "        showarrow = False\n",
    "    )]\n",
    ")\n",
    "\n",
    "fig.show()"
   ]
  },
  {
   "cell_type": "code",
   "execution_count": 39,
   "id": "c64e02be",
   "metadata": {},
   "outputs": [],
   "source": [
    "#экспортируем карту\n",
    "pio.write_html(fig, 'map.html')"
   ]
  },
  {
   "cell_type": "markdown",
   "id": "e24ff25b",
   "metadata": {},
   "source": [
    "Данная визуализация данных представляет собой хороплет-карту, которая отображает среднюю стоимость бутылки вина в различных странах. Она полезна и интересна по нескольким причинам:\n",
    "\n",
    "**Географическое распределение:** Карта позволяет легко увидеть, как стоимость вина различается в разных странах. Это может быть полезно для анализа рынков и понимания, где вина обычно дороже или дешевле.\n",
    "\n",
    "**Цветовая шкала:** Цветовая шкала используется для отображения разных уровней стоимости вина. Более темные оттенки цвета указывают на более высокую стоимость, а более светлые оттенки - на более низкую стоимость. Это позволяет быстро сравнить и оценить относительную стоимость в разных странах.\n",
    "\n",
    "**Интерактивность:** Поскольку график создается с использованием библиотеки Plotly, он обладает интерактивными возможностями. Пользователь может навести курсор на конкретную страну, чтобы узнать ее среднюю стоимость вина и другую информацию, такую как минимальную и максимальную стоимость бутылки в стране, самый популярный сорт винограда, самый популярный произвдитель и так далее. Это добавляет удобство и взаимодействие с данными.\n",
    "\n",
    "**Визуальный эффект:** Хороплет-карты обычно очень привлекательны визуально, поскольку они позволяют наглядно представить данные на географической карте. Это делает визуализацию более привлекательной и интересной для зрителя."
   ]
  },
  {
   "cell_type": "markdown",
   "id": "640375c0",
   "metadata": {},
   "source": [
    "P.s. Остальная визуализация содержится в тетрадках с гипотезами"
   ]
  },
  {
   "cell_type": "markdown",
   "id": "ab7710be",
   "metadata": {},
   "source": [
    "P.p.s. Если у вас не прогрузится хороплет-карта, вы сможете найти её версию html в нашем репозитории"
   ]
  },
  {
   "cell_type": "code",
   "execution_count": 40,
   "id": "ada45bd8",
   "metadata": {},
   "outputs": [],
   "source": [
    "#выгрузим обработанные данные\n",
    "df.to_csv('обработанные данные.csv')"
   ]
  }
 ],
 "metadata": {
  "kernelspec": {
   "display_name": "Python 3 (ipykernel)",
   "language": "python",
   "name": "python3"
  },
  "language_info": {
   "codemirror_mode": {
    "name": "ipython",
    "version": 3
   },
   "file_extension": ".py",
   "mimetype": "text/x-python",
   "name": "python",
   "nbconvert_exporter": "python",
   "pygments_lexer": "ipython3",
   "version": "3.9.13"
  }
 },
 "nbformat": 4,
 "nbformat_minor": 5
}
